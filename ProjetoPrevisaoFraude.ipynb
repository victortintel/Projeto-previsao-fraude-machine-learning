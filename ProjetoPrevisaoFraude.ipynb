{
 "cells": [
  {
   "cell_type": "markdown",
   "metadata": {},
   "source": [
    "# Machine Learning - Prevenção de Fraudes - Victor Tintel Martins\n",
    "\n",
    "<p> Conjunto de dados com mais de 80.000 registros<br>\n",
    "Analise exploratória de variáveis categórias e numéricas<br>\n",
    "Analise e tratamento de valores missing (nulos)<br>\n",
    "Analise estatística de variáveis<br>\n",
    "Tratamento de Dados<br>     \n",
    "Engenharia de Atributos<br>    \n",
    "Gráficos<br>\n",
    "Outliers<br>\n",
    "Normalização e Padronização de Dados<br>\n",
    "Balanceamento da variável ALVO (TARGET)<br>    \n",
    "OneHotEncoding<br>\n",
    "Criação, treino e teste dos modelos preditivos com 3 algoritmos diferentes (Random Forest, Suport Vector Machine e KNN<br>\n",
    "GridSearch para ajustes de hiperparametros automáticos e treino de mais de 1.000 modelos    \n",
    "Analise dos pesos das melhores variáveis    "
   ]
  },
  {
   "cell_type": "markdown",
   "metadata": {},
   "source": [
    "## Importantes Pacotes e Carregando o Dataset"
   ]
  },
  {
   "cell_type": "code",
   "execution_count": 5,
   "metadata": {},
   "outputs": [],
   "source": [
    "import warnings\n",
    "import pandas as pd\n",
    "import matplotlib.pyplot as plt\n",
    "import seaborn as sns\n",
    "import time\n",
    "import numpy as np\n",
    "\n",
    "from sklearn.ensemble import RandomForestClassifier # modelo do algoritmo que vou testar\n",
    "from sklearn.svm import SVC # modelo do algoritmo que vou testar\n",
    "from sklearn.neighbors import KNeighborsClassifier # modelo do algoritmo que vou testar\n",
    " \n",
    "from sklearn.model_selection import GridSearchCV # fazer ajuste de hiperparametros\n",
    "from sklearn.model_selection import train_test_split # fazer separação de dados em treino e teste\n",
    "from sklearn.preprocessing import LabelEncoder # fazer o one hot encoding\n",
    "\n",
    "from imblearn import under_sampling, over_sampling # fazer o balanceamento da variável alvo\n",
    "from imblearn.over_sampling import SMOTE # fazer o balanceamento da variável alvo\n",
    "\n",
    "from sklearn.preprocessing import MinMaxScaler # fazer normalização\n",
    "from sklearn.preprocessing import StandardScaler # fazer padronização\n",
    "from sklearn.metrics import r2_score # para medir a acurácia e performance do nosso modelo\n",
    "\n",
    "warnings.filterwarnings(\"ignore\") \n",
    "pd.set_option('display.max_columns', None)\n",
    "pd.set_option('display.max_rows', None)\n",
    "pd.options.display.float_format = '{:.2f}'.format"
   ]
  },
  {
   "cell_type": "code",
   "execution_count": 7,
   "metadata": {},
   "outputs": [],
   "source": [
    "#Importação do arquivo de dados\n",
    "\n",
    "#df_original=pd.read_csv(\"dados_coletados_20k.csv\")\n",
    "#df_original=pd.read_csv(\"dados_coletados_80k.csv\")\n",
    "\n",
    "df_original = pd.read_csv(\"dados_coletados10k.csv\")"
   ]
  },
  {
   "cell_type": "markdown",
   "metadata": {},
   "source": [
    "# Analise Exploratória - Visão Geral\n",
    "<br>\n",
    "Aqui o objetivo desta analise é ter uma visão geral do conjunto de dados, compreendendo seu tamanho, variaveis, \n",
    "tipo de dados e período dos dados coletados."
   ]
  },
  {
   "cell_type": "code",
   "execution_count": 10,
   "metadata": {},
   "outputs": [
    {
     "data": {
      "text/plain": [
       "(9517, 24)"
      ]
     },
     "execution_count": 10,
     "metadata": {},
     "output_type": "execute_result"
    }
   ],
   "source": [
    "#Tamanho do conjunto de dados. xx.xxx linhas e xx variáveis\n",
    "\n",
    "df_original.shape"
   ]
  },
  {
   "cell_type": "code",
   "execution_count": 12,
   "metadata": {},
   "outputs": [
    {
     "data": {
      "text/html": [
       "<div>\n",
       "<style scoped>\n",
       "    .dataframe tbody tr th:only-of-type {\n",
       "        vertical-align: middle;\n",
       "    }\n",
       "\n",
       "    .dataframe tbody tr th {\n",
       "        vertical-align: top;\n",
       "    }\n",
       "\n",
       "    .dataframe thead th {\n",
       "        text-align: right;\n",
       "    }\n",
       "</style>\n",
       "<table border=\"1\" class=\"dataframe\">\n",
       "  <thead>\n",
       "    <tr style=\"text-align: right;\">\n",
       "      <th></th>\n",
       "      <th>Contrato</th>\n",
       "      <th>Idade</th>\n",
       "      <th>Sexo</th>\n",
       "      <th>Valor_Renda</th>\n",
       "      <th>UF_Cliente</th>\n",
       "      <th>Perc_Juros</th>\n",
       "      <th>Prazo_Emprestimo</th>\n",
       "      <th>Data_Contratacao</th>\n",
       "      <th>Prazo_Restante</th>\n",
       "      <th>VL_Emprestimo</th>\n",
       "      <th>VL_Emprestimo_ComJuros</th>\n",
       "      <th>QT_Total_Parcelas_Pagas</th>\n",
       "      <th>QT_Total_Parcelas_Pagas_EmDia</th>\n",
       "      <th>QT_Total_Parcelas_Pagas_EmAtraso</th>\n",
       "      <th>Qt_Renegociacao</th>\n",
       "      <th>Estado_Civil</th>\n",
       "      <th>Escolaridade</th>\n",
       "      <th>Possui_Patrimonio</th>\n",
       "      <th>VL_Patrimonio</th>\n",
       "      <th>QT_Parcelas_Atraso</th>\n",
       "      <th>QT_Dias_Atraso</th>\n",
       "      <th>Saldo_Devedor</th>\n",
       "      <th>Total_Pago</th>\n",
       "      <th>Possivel_Fraude</th>\n",
       "    </tr>\n",
       "  </thead>\n",
       "  <tbody>\n",
       "    <tr>\n",
       "      <th>0</th>\n",
       "      <td>322068935715</td>\n",
       "      <td>43</td>\n",
       "      <td>M</td>\n",
       "      <td>5800.00</td>\n",
       "      <td>SP</td>\n",
       "      <td>23.00</td>\n",
       "      <td>200</td>\n",
       "      <td>2022-08-01</td>\n",
       "      <td>193</td>\n",
       "      <td>80000.00</td>\n",
       "      <td>92000.00</td>\n",
       "      <td>15</td>\n",
       "      <td>9</td>\n",
       "      <td>1</td>\n",
       "      <td>0</td>\n",
       "      <td>DIVORCIADO</td>\n",
       "      <td>Nenhum</td>\n",
       "      <td>N</td>\n",
       "      <td>0.00</td>\n",
       "      <td>0</td>\n",
       "      <td>NaN</td>\n",
       "      <td>91759.97</td>\n",
       "      <td>7717.08</td>\n",
       "      <td>Nao</td>\n",
       "    </tr>\n",
       "    <tr>\n",
       "      <th>1</th>\n",
       "      <td>322068936715</td>\n",
       "      <td>22</td>\n",
       "      <td>M</td>\n",
       "      <td>2000.00</td>\n",
       "      <td>MG</td>\n",
       "      <td>20.00</td>\n",
       "      <td>100</td>\n",
       "      <td>2022-08-01</td>\n",
       "      <td>89</td>\n",
       "      <td>50000.00</td>\n",
       "      <td>57500.00</td>\n",
       "      <td>10</td>\n",
       "      <td>10</td>\n",
       "      <td>0</td>\n",
       "      <td>0</td>\n",
       "      <td>SOLTEIRO(A)</td>\n",
       "      <td>NaN</td>\n",
       "      <td>N</td>\n",
       "      <td>0.00</td>\n",
       "      <td>4</td>\n",
       "      <td>103.00</td>\n",
       "      <td>53981.18</td>\n",
       "      <td>6756.59</td>\n",
       "      <td>Nao</td>\n",
       "    </tr>\n",
       "    <tr>\n",
       "      <th>2</th>\n",
       "      <td>322068938715</td>\n",
       "      <td>35</td>\n",
       "      <td>M</td>\n",
       "      <td>4000.00</td>\n",
       "      <td>BA</td>\n",
       "      <td>18.00</td>\n",
       "      <td>100</td>\n",
       "      <td>2022-08-01</td>\n",
       "      <td>85</td>\n",
       "      <td>100000.00</td>\n",
       "      <td>115000.00</td>\n",
       "      <td>15</td>\n",
       "      <td>5</td>\n",
       "      <td>1</td>\n",
       "      <td>0</td>\n",
       "      <td>CASADO (A)</td>\n",
       "      <td>NaN</td>\n",
       "      <td>N</td>\n",
       "      <td>0.00</td>\n",
       "      <td>0</td>\n",
       "      <td>NaN</td>\n",
       "      <td>101150.02</td>\n",
       "      <td>17929.06</td>\n",
       "      <td>Nao</td>\n",
       "    </tr>\n",
       "    <tr>\n",
       "      <th>3</th>\n",
       "      <td>322068939715</td>\n",
       "      <td>20</td>\n",
       "      <td>M</td>\n",
       "      <td>1800.00</td>\n",
       "      <td>MG</td>\n",
       "      <td>20.00</td>\n",
       "      <td>100</td>\n",
       "      <td>2022-08-01</td>\n",
       "      <td>89</td>\n",
       "      <td>30000.00</td>\n",
       "      <td>34500.00</td>\n",
       "      <td>1</td>\n",
       "      <td>1</td>\n",
       "      <td>0</td>\n",
       "      <td>0</td>\n",
       "      <td>SOLTEIRO(A)</td>\n",
       "      <td>NaN</td>\n",
       "      <td>N</td>\n",
       "      <td>0.00</td>\n",
       "      <td>13</td>\n",
       "      <td>376.00</td>\n",
       "      <td>36208.10</td>\n",
       "      <td>369.10</td>\n",
       "      <td>Sim</td>\n",
       "    </tr>\n",
       "    <tr>\n",
       "      <th>4</th>\n",
       "      <td>322068940715</td>\n",
       "      <td>53</td>\n",
       "      <td>M</td>\n",
       "      <td>2800.00</td>\n",
       "      <td>MG</td>\n",
       "      <td>20.00</td>\n",
       "      <td>100</td>\n",
       "      <td>2022-08-01</td>\n",
       "      <td>87</td>\n",
       "      <td>60000.00</td>\n",
       "      <td>69000.00</td>\n",
       "      <td>16</td>\n",
       "      <td>16</td>\n",
       "      <td>0</td>\n",
       "      <td>0</td>\n",
       "      <td>CASADO (A)</td>\n",
       "      <td>NaN</td>\n",
       "      <td>N</td>\n",
       "      <td>0.00</td>\n",
       "      <td>0</td>\n",
       "      <td>NaN</td>\n",
       "      <td>60984.00</td>\n",
       "      <td>11845.24</td>\n",
       "      <td>Nao</td>\n",
       "    </tr>\n",
       "  </tbody>\n",
       "</table>\n",
       "</div>"
      ],
      "text/plain": [
       "       Contrato  Idade Sexo  Valor_Renda UF_Cliente  Perc_Juros  \\\n",
       "0  322068935715     43    M      5800.00         SP       23.00   \n",
       "1  322068936715     22    M      2000.00         MG       20.00   \n",
       "2  322068938715     35    M      4000.00         BA       18.00   \n",
       "3  322068939715     20    M      1800.00         MG       20.00   \n",
       "4  322068940715     53    M      2800.00         MG       20.00   \n",
       "\n",
       "   Prazo_Emprestimo Data_Contratacao  Prazo_Restante  VL_Emprestimo  \\\n",
       "0               200       2022-08-01             193       80000.00   \n",
       "1               100       2022-08-01              89       50000.00   \n",
       "2               100       2022-08-01              85      100000.00   \n",
       "3               100       2022-08-01              89       30000.00   \n",
       "4               100       2022-08-01              87       60000.00   \n",
       "\n",
       "   VL_Emprestimo_ComJuros  QT_Total_Parcelas_Pagas  \\\n",
       "0                92000.00                       15   \n",
       "1                57500.00                       10   \n",
       "2               115000.00                       15   \n",
       "3                34500.00                        1   \n",
       "4                69000.00                       16   \n",
       "\n",
       "   QT_Total_Parcelas_Pagas_EmDia  QT_Total_Parcelas_Pagas_EmAtraso  \\\n",
       "0                              9                                 1   \n",
       "1                             10                                 0   \n",
       "2                              5                                 1   \n",
       "3                              1                                 0   \n",
       "4                             16                                 0   \n",
       "\n",
       "   Qt_Renegociacao Estado_Civil Escolaridade Possui_Patrimonio  VL_Patrimonio  \\\n",
       "0                0   DIVORCIADO       Nenhum                 N           0.00   \n",
       "1                0  SOLTEIRO(A)          NaN                 N           0.00   \n",
       "2                0   CASADO (A)          NaN                 N           0.00   \n",
       "3                0  SOLTEIRO(A)          NaN                 N           0.00   \n",
       "4                0   CASADO (A)          NaN                 N           0.00   \n",
       "\n",
       "   QT_Parcelas_Atraso  QT_Dias_Atraso  Saldo_Devedor  Total_Pago  \\\n",
       "0                   0             NaN       91759.97     7717.08   \n",
       "1                   4          103.00       53981.18     6756.59   \n",
       "2                   0             NaN      101150.02    17929.06   \n",
       "3                  13          376.00       36208.10      369.10   \n",
       "4                   0             NaN       60984.00    11845.24   \n",
       "\n",
       "  Possivel_Fraude  \n",
       "0             Nao  \n",
       "1             Nao  \n",
       "2             Nao  \n",
       "3             Sim  \n",
       "4             Nao  "
      ]
     },
     "execution_count": 12,
     "metadata": {},
     "output_type": "execute_result"
    }
   ],
   "source": [
    "#Visão geral do conjunto de dados\n",
    "\n",
    "df_original.head()"
   ]
  },
  {
   "cell_type": "code",
   "execution_count": 14,
   "metadata": {},
   "outputs": [
    {
     "name": "stdout",
     "output_type": "stream",
     "text": [
      "Período dos dados - De: 2022-07-04 Até: 2022-12-20\n"
     ]
    }
   ],
   "source": [
    "# Avaliar o período dos dados coletados\n",
    "# Sempre que tivermos uma data, o ideal é fazermos uma analise do período dos dados coletados\n",
    "\n",
    "inicio = pd.to_datetime(df_original['Data_Contratacao']).dt.date.min()\n",
    "fim = pd.to_datetime(df_original['Data_Contratacao']).dt.date.max()\n",
    "print('Período dos dados - De:', inicio, 'Até:',fim)"
   ]
  },
  {
   "cell_type": "code",
   "execution_count": 16,
   "metadata": {},
   "outputs": [
    {
     "data": {
      "text/plain": [
       "Contrato                               0\n",
       "Idade                                  0\n",
       "Sexo                                   0\n",
       "Valor_Renda                            0\n",
       "UF_Cliente                             0\n",
       "Perc_Juros                             0\n",
       "Prazo_Emprestimo                       0\n",
       "Data_Contratacao                       0\n",
       "Prazo_Restante                         0\n",
       "VL_Emprestimo                          0\n",
       "VL_Emprestimo_ComJuros                 0\n",
       "QT_Total_Parcelas_Pagas                0\n",
       "QT_Total_Parcelas_Pagas_EmDia          0\n",
       "QT_Total_Parcelas_Pagas_EmAtraso       0\n",
       "Qt_Renegociacao                        0\n",
       "Estado_Civil                           0\n",
       "Escolaridade                        7105\n",
       "Possui_Patrimonio                      0\n",
       "VL_Patrimonio                          0\n",
       "QT_Parcelas_Atraso                     0\n",
       "QT_Dias_Atraso                      3594\n",
       "Saldo_Devedor                          0\n",
       "Total_Pago                             0\n",
       "Possivel_Fraude                        0\n",
       "dtype: int64"
      ]
     },
     "execution_count": 16,
     "metadata": {},
     "output_type": "execute_result"
    }
   ],
   "source": [
    "# Verificando se há valores nulos (dados missing)\n",
    "\n",
    "df_original.isnull().sum()"
   ]
  },
  {
   "cell_type": "code",
   "execution_count": 20,
   "metadata": {},
   "outputs": [
    {
     "name": "stdout",
     "output_type": "stream",
     "text": [
      "<class 'pandas.core.frame.DataFrame'>\n",
      "RangeIndex: 9517 entries, 0 to 9516\n",
      "Data columns (total 24 columns):\n",
      " #   Column                            Non-Null Count  Dtype  \n",
      "---  ------                            --------------  -----  \n",
      " 0   Contrato                          9517 non-null   int64  \n",
      " 1   Idade                             9517 non-null   int64  \n",
      " 2   Sexo                              9517 non-null   object \n",
      " 3   Valor_Renda                       9517 non-null   float64\n",
      " 4   UF_Cliente                        9517 non-null   object \n",
      " 5   Perc_Juros                        9517 non-null   float64\n",
      " 6   Prazo_Emprestimo                  9517 non-null   int64  \n",
      " 7   Data_Contratacao                  9517 non-null   object \n",
      " 8   Prazo_Restante                    9517 non-null   int64  \n",
      " 9   VL_Emprestimo                     9517 non-null   float64\n",
      " 10  VL_Emprestimo_ComJuros            9517 non-null   float64\n",
      " 11  QT_Total_Parcelas_Pagas           9517 non-null   int64  \n",
      " 12  QT_Total_Parcelas_Pagas_EmDia     9517 non-null   int64  \n",
      " 13  QT_Total_Parcelas_Pagas_EmAtraso  9517 non-null   int64  \n",
      " 14  Qt_Renegociacao                   9517 non-null   int64  \n",
      " 15  Estado_Civil                      9517 non-null   object \n",
      " 16  Escolaridade                      2412 non-null   object \n",
      " 17  Possui_Patrimonio                 9517 non-null   object \n",
      " 18  VL_Patrimonio                     9517 non-null   float64\n",
      " 19  QT_Parcelas_Atraso                9517 non-null   int64  \n",
      " 20  QT_Dias_Atraso                    5923 non-null   float64\n",
      " 21  Saldo_Devedor                     9517 non-null   float64\n",
      " 22  Total_Pago                        9517 non-null   float64\n",
      " 23  Possivel_Fraude                   9517 non-null   object \n",
      "dtypes: float64(8), int64(9), object(7)\n",
      "memory usage: 1.7+ MB\n"
     ]
    }
   ],
   "source": [
    "# Informações básicas sobre tipos de variáveis\n",
    "# verbose = TRUE é para exibir tudo em uma parte só, tem ter barra de rolagem\n",
    "\n",
    "df_original.info(verbose=True) "
   ]
  },
  {
   "cell_type": "code",
   "execution_count": 34,
   "metadata": {},
   "outputs": [
    {
     "name": "stdout",
     "output_type": "stream",
     "text": [
      "Contrato : 9517\n",
      "Idade : 74\n",
      "Sexo : 2\n",
      "Valor_Renda : 855\n",
      "UF_Cliente : 27\n",
      "Perc_Juros : 21\n",
      "Prazo_Emprestimo : 36\n",
      "Data_Contratacao : 110\n",
      "Prazo_Restante : 79\n",
      "VL_Emprestimo : 61\n",
      "VL_Emprestimo_ComJuros : 61\n",
      "QT_Total_Parcelas_Pagas : 24\n",
      "QT_Total_Parcelas_Pagas_EmDia : 24\n",
      "QT_Total_Parcelas_Pagas_EmAtraso : 15\n",
      "Qt_Renegociacao : 10\n",
      "Estado_Civil : 6\n",
      "Escolaridade : 6\n",
      "Possui_Patrimonio : 2\n",
      "VL_Patrimonio : 3\n",
      "QT_Parcelas_Atraso : 16\n",
      "QT_Dias_Atraso : 16\n",
      "Saldo_Devedor : 7654\n",
      "Total_Pago : 7022\n",
      "Possivel_Fraude : 2\n"
     ]
    }
   ],
   "source": [
    "# Total de valores únicos de cada variável\n",
    "# A variável CONTRATO é um valor único para cada registro, pois refere-se ao Contrato do Cliente, portanto sabemos que tem 9517 clientes.\n",
    "# Vai até 24 porque o índice é exclusivo em python, portanto tem que se colocar uma coluna a mais.\n",
    "\n",
    "valores_unicos = []\n",
    "for i in df_original.columns[0:24].tolist():\n",
    "    print(i, ':', len(df_original[i].astype(str).value_counts()))\n",
    "    valores_unicos.append(len(df_original[i].astype(str).value_counts()))"
   ]
  },
  {
   "cell_type": "code",
   "execution_count": 26,
   "metadata": {},
   "outputs": [
    {
     "data": {
      "text/html": [
       "<div>\n",
       "<style scoped>\n",
       "    .dataframe tbody tr th:only-of-type {\n",
       "        vertical-align: middle;\n",
       "    }\n",
       "\n",
       "    .dataframe tbody tr th {\n",
       "        vertical-align: top;\n",
       "    }\n",
       "\n",
       "    .dataframe thead th {\n",
       "        text-align: right;\n",
       "    }\n",
       "</style>\n",
       "<table border=\"1\" class=\"dataframe\">\n",
       "  <thead>\n",
       "    <tr style=\"text-align: right;\">\n",
       "      <th></th>\n",
       "      <th>Contrato</th>\n",
       "      <th>Idade</th>\n",
       "      <th>Valor_Renda</th>\n",
       "      <th>Perc_Juros</th>\n",
       "      <th>Prazo_Emprestimo</th>\n",
       "      <th>Prazo_Restante</th>\n",
       "      <th>VL_Emprestimo</th>\n",
       "      <th>VL_Emprestimo_ComJuros</th>\n",
       "      <th>QT_Total_Parcelas_Pagas</th>\n",
       "      <th>QT_Total_Parcelas_Pagas_EmDia</th>\n",
       "      <th>QT_Total_Parcelas_Pagas_EmAtraso</th>\n",
       "      <th>Qt_Renegociacao</th>\n",
       "      <th>VL_Patrimonio</th>\n",
       "      <th>QT_Parcelas_Atraso</th>\n",
       "      <th>QT_Dias_Atraso</th>\n",
       "      <th>Saldo_Devedor</th>\n",
       "      <th>Total_Pago</th>\n",
       "    </tr>\n",
       "  </thead>\n",
       "  <tbody>\n",
       "    <tr>\n",
       "      <th>count</th>\n",
       "      <td>9517.00</td>\n",
       "      <td>9517.00</td>\n",
       "      <td>9517.00</td>\n",
       "      <td>9517.00</td>\n",
       "      <td>9517.00</td>\n",
       "      <td>9517.00</td>\n",
       "      <td>9517.00</td>\n",
       "      <td>9517.00</td>\n",
       "      <td>9517.00</td>\n",
       "      <td>9517.00</td>\n",
       "      <td>9517.00</td>\n",
       "      <td>9517.00</td>\n",
       "      <td>9517.00</td>\n",
       "      <td>9517.00</td>\n",
       "      <td>5923.00</td>\n",
       "      <td>9517.00</td>\n",
       "      <td>9517.00</td>\n",
       "    </tr>\n",
       "    <tr>\n",
       "      <th>mean</th>\n",
       "      <td>322078158460.93</td>\n",
       "      <td>38.74</td>\n",
       "      <td>8325.40</td>\n",
       "      <td>19.65</td>\n",
       "      <td>107.43</td>\n",
       "      <td>104.58</td>\n",
       "      <td>81881.89</td>\n",
       "      <td>94164.17</td>\n",
       "      <td>7.89</td>\n",
       "      <td>4.11</td>\n",
       "      <td>1.60</td>\n",
       "      <td>1.24</td>\n",
       "      <td>10.93</td>\n",
       "      <td>5.35</td>\n",
       "      <td>249.79</td>\n",
       "      <td>90560.27</td>\n",
       "      <td>8166.21</td>\n",
       "    </tr>\n",
       "    <tr>\n",
       "      <th>std</th>\n",
       "      <td>5434160.86</td>\n",
       "      <td>12.67</td>\n",
       "      <td>121862.06</td>\n",
       "      <td>3.82</td>\n",
       "      <td>62.49</td>\n",
       "      <td>68.57</td>\n",
       "      <td>94138.06</td>\n",
       "      <td>108258.77</td>\n",
       "      <td>5.17</td>\n",
       "      <td>4.04</td>\n",
       "      <td>2.31</td>\n",
       "      <td>1.17</td>\n",
       "      <td>1025.26</td>\n",
       "      <td>5.32</td>\n",
       "      <td>123.22</td>\n",
       "      <td>111050.54</td>\n",
       "      <td>16697.76</td>\n",
       "    </tr>\n",
       "    <tr>\n",
       "      <th>min</th>\n",
       "      <td>322068935715.00</td>\n",
       "      <td>6.00</td>\n",
       "      <td>450.00</td>\n",
       "      <td>7.00</td>\n",
       "      <td>15.00</td>\n",
       "      <td>0.00</td>\n",
       "      <td>3500.00</td>\n",
       "      <td>4025.00</td>\n",
       "      <td>0.00</td>\n",
       "      <td>0.00</td>\n",
       "      <td>0.00</td>\n",
       "      <td>0.00</td>\n",
       "      <td>0.00</td>\n",
       "      <td>0.00</td>\n",
       "      <td>11.00</td>\n",
       "      <td>0.00</td>\n",
       "      <td>0.00</td>\n",
       "    </tr>\n",
       "    <tr>\n",
       "      <th>25%</th>\n",
       "      <td>322073331715.00</td>\n",
       "      <td>29.00</td>\n",
       "      <td>2300.00</td>\n",
       "      <td>18.00</td>\n",
       "      <td>60.00</td>\n",
       "      <td>51.00</td>\n",
       "      <td>20000.00</td>\n",
       "      <td>23000.00</td>\n",
       "      <td>2.00</td>\n",
       "      <td>1.00</td>\n",
       "      <td>0.00</td>\n",
       "      <td>0.00</td>\n",
       "      <td>0.00</td>\n",
       "      <td>0.00</td>\n",
       "      <td>162.00</td>\n",
       "      <td>18546.85</td>\n",
       "      <td>1202.04</td>\n",
       "    </tr>\n",
       "    <tr>\n",
       "      <th>50%</th>\n",
       "      <td>322078461715.00</td>\n",
       "      <td>37.00</td>\n",
       "      <td>3400.00</td>\n",
       "      <td>20.00</td>\n",
       "      <td>80.00</td>\n",
       "      <td>80.00</td>\n",
       "      <td>50000.00</td>\n",
       "      <td>57500.00</td>\n",
       "      <td>9.00</td>\n",
       "      <td>2.00</td>\n",
       "      <td>1.00</td>\n",
       "      <td>1.00</td>\n",
       "      <td>0.00</td>\n",
       "      <td>4.00</td>\n",
       "      <td>284.00</td>\n",
       "      <td>45375.30</td>\n",
       "      <td>3949.91</td>\n",
       "    </tr>\n",
       "    <tr>\n",
       "      <th>75%</th>\n",
       "      <td>322082622715.00</td>\n",
       "      <td>46.00</td>\n",
       "      <td>5000.00</td>\n",
       "      <td>22.00</td>\n",
       "      <td>190.00</td>\n",
       "      <td>185.00</td>\n",
       "      <td>100000.00</td>\n",
       "      <td>115000.00</td>\n",
       "      <td>13.00</td>\n",
       "      <td>6.00</td>\n",
       "      <td>2.00</td>\n",
       "      <td>2.00</td>\n",
       "      <td>0.00</td>\n",
       "      <td>11.00</td>\n",
       "      <td>344.00</td>\n",
       "      <td>119721.25</td>\n",
       "      <td>8302.01</td>\n",
       "    </tr>\n",
       "    <tr>\n",
       "      <th>max</th>\n",
       "      <td>322087622715.00</td>\n",
       "      <td>91.00</td>\n",
       "      <td>8000080.00</td>\n",
       "      <td>28.00</td>\n",
       "      <td>240.00</td>\n",
       "      <td>227.00</td>\n",
       "      <td>500000.00</td>\n",
       "      <td>575000.00</td>\n",
       "      <td>35.00</td>\n",
       "      <td>35.00</td>\n",
       "      <td>14.00</td>\n",
       "      <td>9.00</td>\n",
       "      <td>100000.00</td>\n",
       "      <td>15.00</td>\n",
       "      <td>435.00</td>\n",
       "      <td>625000.00</td>\n",
       "      <td>396385.00</td>\n",
       "    </tr>\n",
       "  </tbody>\n",
       "</table>\n",
       "</div>"
      ],
      "text/plain": [
       "             Contrato   Idade  Valor_Renda  Perc_Juros  Prazo_Emprestimo  \\\n",
       "count         9517.00 9517.00      9517.00     9517.00           9517.00   \n",
       "mean  322078158460.93   38.74      8325.40       19.65            107.43   \n",
       "std        5434160.86   12.67    121862.06        3.82             62.49   \n",
       "min   322068935715.00    6.00       450.00        7.00             15.00   \n",
       "25%   322073331715.00   29.00      2300.00       18.00             60.00   \n",
       "50%   322078461715.00   37.00      3400.00       20.00             80.00   \n",
       "75%   322082622715.00   46.00      5000.00       22.00            190.00   \n",
       "max   322087622715.00   91.00   8000080.00       28.00            240.00   \n",
       "\n",
       "       Prazo_Restante  VL_Emprestimo  VL_Emprestimo_ComJuros  \\\n",
       "count         9517.00        9517.00                 9517.00   \n",
       "mean           104.58       81881.89                94164.17   \n",
       "std             68.57       94138.06               108258.77   \n",
       "min              0.00        3500.00                 4025.00   \n",
       "25%             51.00       20000.00                23000.00   \n",
       "50%             80.00       50000.00                57500.00   \n",
       "75%            185.00      100000.00               115000.00   \n",
       "max            227.00      500000.00               575000.00   \n",
       "\n",
       "       QT_Total_Parcelas_Pagas  QT_Total_Parcelas_Pagas_EmDia  \\\n",
       "count                  9517.00                        9517.00   \n",
       "mean                      7.89                           4.11   \n",
       "std                       5.17                           4.04   \n",
       "min                       0.00                           0.00   \n",
       "25%                       2.00                           1.00   \n",
       "50%                       9.00                           2.00   \n",
       "75%                      13.00                           6.00   \n",
       "max                      35.00                          35.00   \n",
       "\n",
       "       QT_Total_Parcelas_Pagas_EmAtraso  Qt_Renegociacao  VL_Patrimonio  \\\n",
       "count                           9517.00          9517.00        9517.00   \n",
       "mean                               1.60             1.24          10.93   \n",
       "std                                2.31             1.17        1025.26   \n",
       "min                                0.00             0.00           0.00   \n",
       "25%                                0.00             0.00           0.00   \n",
       "50%                                1.00             1.00           0.00   \n",
       "75%                                2.00             2.00           0.00   \n",
       "max                               14.00             9.00      100000.00   \n",
       "\n",
       "       QT_Parcelas_Atraso  QT_Dias_Atraso  Saldo_Devedor  Total_Pago  \n",
       "count             9517.00         5923.00        9517.00     9517.00  \n",
       "mean                 5.35          249.79       90560.27     8166.21  \n",
       "std                  5.32          123.22      111050.54    16697.76  \n",
       "min                  0.00           11.00           0.00        0.00  \n",
       "25%                  0.00          162.00       18546.85     1202.04  \n",
       "50%                  4.00          284.00       45375.30     3949.91  \n",
       "75%                 11.00          344.00      119721.25     8302.01  \n",
       "max                 15.00          435.00      625000.00   396385.00  "
      ]
     },
     "execution_count": 26,
     "metadata": {},
     "output_type": "execute_result"
    }
   ],
   "source": [
    "# Visualizando algumas medidas estatisticas.\n",
    "\n",
    "df_original.describe()"
   ]
  },
  {
   "cell_type": "code",
   "execution_count": 28,
   "metadata": {},
   "outputs": [
    {
     "name": "stdout",
     "output_type": "stream",
     "text": [
      "Maior Renda: 8000080.0\n",
      "Menor Renda: 450.0\n"
     ]
    }
   ],
   "source": [
    "# Avaliando o maior e menor valor da variavel Valor_Renda\n",
    "\n",
    "print('Maior Renda:', df_original['Valor_Renda'].max())\n",
    "print('Menor Renda:', df_original['Valor_Renda'].min())"
   ]
  },
  {
   "cell_type": "code",
   "execution_count": 30,
   "metadata": {},
   "outputs": [
    {
     "name": "stdout",
     "output_type": "stream",
     "text": [
      "Maior quantidade de dias atraso:  435.0\n",
      "Menor quantidade de dias atraso:  11.0\n"
     ]
    }
   ],
   "source": [
    "# Avaliando o maior e menor valor da variavel QT_Dias_Atraso\n",
    "\n",
    "print('Maior quantidade de dias atraso: ', df_original['QT_Dias_Atraso'].max())\n",
    "print('Menor quantidade de dias atraso: ', df_original['QT_Dias_Atraso'].min())"
   ]
  },
  {
   "cell_type": "code",
   "execution_count": 36,
   "metadata": {},
   "outputs": [
    {
     "name": "stdout",
     "output_type": "stream",
     "text": [
      "Maior quantidade de dias restante:  227\n",
      "Menor quantidade de dias restante:  0\n"
     ]
    }
   ],
   "source": [
    "# Avaliando o maior e menor valor da variavel Prazo_Restante\n",
    "\n",
    "print('Maior quantidade de dias restante: ', df_original['Prazo_Restante'].max())\n",
    "print('Menor quantidade de dias restante: ', df_original['Prazo_Restante'].min())"
   ]
  },
  {
   "cell_type": "code",
   "execution_count": 40,
   "metadata": {},
   "outputs": [
    {
     "data": {
      "text/plain": [
       "QT_Dias_Atraso\n",
       "11.00     532\n",
       "41.00     255\n",
       "71.00     190\n",
       "103.00    205\n",
       "133.00    176\n",
       "162.00    206\n",
       "194.00    241\n",
       "225.00    352\n",
       "251.00    471\n",
       "284.00    546\n",
       "315.00    718\n",
       "344.00    930\n",
       "376.00    686\n",
       "406.00    413\n",
       "435.00      2\n",
       "dtype: int64"
      ]
     },
     "execution_count": 40,
     "metadata": {},
     "output_type": "execute_result"
    }
   ],
   "source": [
    "# Quantidade de dias em atraso\n",
    "# Aqui vamos fazer um agrupamento pela variável QT_DIAS_ATRASO, isso quer dizer que vamos ver quantos registros tem de cada tipo diferente.\n",
    "\n",
    "df_original.groupby(['QT_Dias_Atraso']).size()"
   ]
  },
  {
   "cell_type": "code",
   "execution_count": 42,
   "metadata": {},
   "outputs": [
    {
     "data": {
      "text/plain": [
       "Prazo_Emprestimo\n",
       "15        4\n",
       "18        4\n",
       "19        5\n",
       "20      146\n",
       "25      183\n",
       "30      272\n",
       "34        1\n",
       "35       81\n",
       "36      306\n",
       "40      136\n",
       "42       20\n",
       "45      205\n",
       "48      333\n",
       "50      184\n",
       "55      185\n",
       "60      890\n",
       "65       36\n",
       "70      134\n",
       "75      455\n",
       "80     1421\n",
       "88        2\n",
       "90      354\n",
       "95      135\n",
       "100     928\n",
       "120     102\n",
       "130      21\n",
       "140     167\n",
       "150      48\n",
       "160      33\n",
       "165       3\n",
       "170      78\n",
       "180     129\n",
       "190     674\n",
       "200    1661\n",
       "235      71\n",
       "240     110\n",
       "dtype: int64"
      ]
     },
     "execution_count": 42,
     "metadata": {},
     "output_type": "execute_result"
    }
   ],
   "source": [
    "# Prazo emprestimo\n",
    "\n",
    "df_original.groupby(['Prazo_Emprestimo']).size()"
   ]
  },
  {
   "cell_type": "code",
   "execution_count": 44,
   "metadata": {},
   "outputs": [
    {
     "data": {
      "text/plain": [
       "Prazo_Restante\n",
       "0        2\n",
       "3        3\n",
       "4        2\n",
       "6       22\n",
       "7       29\n",
       "8       31\n",
       "9        8\n",
       "10      12\n",
       "11      32\n",
       "12       6\n",
       "13      94\n",
       "15      10\n",
       "16      42\n",
       "17      85\n",
       "18      27\n",
       "19     143\n",
       "20      23\n",
       "23     164\n",
       "25      84\n",
       "27      38\n",
       "28      52\n",
       "29      71\n",
       "30      51\n",
       "31      71\n",
       "33      40\n",
       "34      67\n",
       "35     168\n",
       "36     204\n",
       "37      31\n",
       "38      55\n",
       "39      22\n",
       "40      73\n",
       "41      37\n",
       "42      14\n",
       "43      27\n",
       "44     126\n",
       "45      19\n",
       "46       2\n",
       "49     145\n",
       "50      19\n",
       "51     256\n",
       "53     150\n",
       "59       7\n",
       "60     178\n",
       "64     421\n",
       "66      43\n",
       "68     330\n",
       "71     270\n",
       "74     304\n",
       "75     193\n",
       "76      99\n",
       "77      67\n",
       "78      63\n",
       "79      86\n",
       "80     188\n",
       "82     159\n",
       "84      48\n",
       "85      72\n",
       "87     129\n",
       "89     420\n",
       "91     705\n",
       "100     15\n",
       "107     43\n",
       "120     24\n",
       "125     68\n",
       "129     44\n",
       "133     25\n",
       "143    197\n",
       "149     16\n",
       "156     39\n",
       "159     58\n",
       "175    119\n",
       "179     27\n",
       "185    332\n",
       "193    764\n",
       "198    337\n",
       "221     17\n",
       "225    534\n",
       "227    519\n",
       "dtype: int64"
      ]
     },
     "execution_count": 44,
     "metadata": {},
     "output_type": "execute_result"
    }
   ],
   "source": [
    "# Prazo Restante\n",
    "\n",
    "df_original.groupby(['Prazo_Restante']).size()"
   ]
  },
  {
   "cell_type": "code",
   "execution_count": 48,
   "metadata": {},
   "outputs": [
    {
     "data": {
      "text/plain": [
       "Sexo\n",
       "F    3811\n",
       "M    5706\n",
       "dtype: int64"
      ]
     },
     "execution_count": 48,
     "metadata": {},
     "output_type": "execute_result"
    }
   ],
   "source": [
    "# Sexo\n",
    "# Nesse groupby conseguimos perceber que tem quase 2 mil homens a mais do que mulheres.\n",
    "\n",
    "df_original.groupby(['Sexo']).size()"
   ]
  },
  {
   "cell_type": "code",
   "execution_count": 50,
   "metadata": {},
   "outputs": [
    {
     "data": {
      "text/plain": [
       "UF_Cliente\n",
       "AC       1\n",
       "AL      79\n",
       "AM       2\n",
       "AP       5\n",
       "BA     883\n",
       "CE     248\n",
       "DF      46\n",
       "ES      49\n",
       "GO     485\n",
       "MA     403\n",
       "MG    1637\n",
       "MS     238\n",
       "MT     137\n",
       "PA     420\n",
       "PB     154\n",
       "PE     263\n",
       "PI     104\n",
       "PR     693\n",
       "RJ     335\n",
       "RN      78\n",
       "RO      16\n",
       "RR       4\n",
       "RS     407\n",
       "SC     298\n",
       "SE      45\n",
       "SP    2468\n",
       "TO      19\n",
       "dtype: int64"
      ]
     },
     "execution_count": 50,
     "metadata": {},
     "output_type": "execute_result"
    }
   ],
   "source": [
    "# UF dos Clientes\n",
    "\n",
    "df_original.groupby(['UF_Cliente']).size()"
   ]
  },
  {
   "cell_type": "code",
   "execution_count": 66,
   "metadata": {},
   "outputs": [
    {
     "name": "stdout",
     "output_type": "stream",
     "text": [
      "Estado com MAIS registros: SP (2468 registros)\n"
     ]
    }
   ],
   "source": [
    "# Contagem de registros por UF\n",
    "contagem_uf = df_original.groupby(['UF_Cliente']).size()\n",
    "\n",
    "# Estado com MAIS registros\n",
    "estado_mais_registros = contagem_uf.idxmax()\n",
    "quantidade_max = contagem_uf.max()\n",
    "\n",
    "print(f\"Estado com MAIS registros: {estado_mais_registros} ({quantidade_max} registros)\")"
   ]
  },
  {
   "cell_type": "code",
   "execution_count": 70,
   "metadata": {},
   "outputs": [
    {
     "name": "stdout",
     "output_type": "stream",
     "text": [
      "Estado com MENOS registros: AC (1 registro)\n"
     ]
    }
   ],
   "source": [
    "# Estado com MENOS registros\n",
    "\n",
    "estado_menos_registros = contagem_uf.idxmin()\n",
    "quantidade_min = contagem_uf.min()\n",
    "\n",
    "print(f\"Estado com MENOS registros: {estado_menos_registros} ({quantidade_min} registro)\")"
   ]
  },
  {
   "cell_type": "code",
   "execution_count": 72,
   "metadata": {},
   "outputs": [
    {
     "data": {
      "text/plain": [
       "Idade\n",
       "6       1\n",
       "17      4\n",
       "18      6\n",
       "19    109\n",
       "20    207\n",
       "21    193\n",
       "22    173\n",
       "23    234\n",
       "24    251\n",
       "25    253\n",
       "26    296\n",
       "27    277\n",
       "28    280\n",
       "29    298\n",
       "30    284\n",
       "31    281\n",
       "32    288\n",
       "33    273\n",
       "34    310\n",
       "35    336\n",
       "36    280\n",
       "37    262\n",
       "38    271\n",
       "39    270\n",
       "40    264\n",
       "41    270\n",
       "42    243\n",
       "43    233\n",
       "44    285\n",
       "45    229\n",
       "46    208\n",
       "47    177\n",
       "48    167\n",
       "49    172\n",
       "50    148\n",
       "51    143\n",
       "52    118\n",
       "53    122\n",
       "54    124\n",
       "55    124\n",
       "56     96\n",
       "57     76\n",
       "58     90\n",
       "59     79\n",
       "60     99\n",
       "61     71\n",
       "62     56\n",
       "63     49\n",
       "64     54\n",
       "65     37\n",
       "66     65\n",
       "67     39\n",
       "68     48\n",
       "69     33\n",
       "70     27\n",
       "71     16\n",
       "72     19\n",
       "73     16\n",
       "74     16\n",
       "75      7\n",
       "76     12\n",
       "77      5\n",
       "78      5\n",
       "79      3\n",
       "80      9\n",
       "81      5\n",
       "82      3\n",
       "83      4\n",
       "84      2\n",
       "85      5\n",
       "87      2\n",
       "88      2\n",
       "90      2\n",
       "91      1\n",
       "dtype: int64"
      ]
     },
     "execution_count": 72,
     "metadata": {},
     "output_type": "execute_result"
    }
   ],
   "source": [
    "# Idade dos clientes\n",
    "\n",
    "df_original.groupby(['Idade']).size()"
   ]
  },
  {
   "cell_type": "code",
   "execution_count": 76,
   "metadata": {},
   "outputs": [
    {
     "name": "stdout",
     "output_type": "stream",
     "text": [
      "Idade com MAIS registros: 35 anos (336 registros)\n"
     ]
    }
   ],
   "source": [
    "# Contagem de registros por idade\n",
    "contagem_idade = df_original.groupby(['Idade']).size()\n",
    "\n",
    "# Estado com MAIS registros\n",
    "idade_mais_registros = contagem_idade.idxmax()\n",
    "quantidade_idade_max = contagem_idade.max()\n",
    "\n",
    "print(f\"Idade com MAIS registros: {idade_mais_registros} anos ({quantidade_idade_max} registros)\")"
   ]
  },
  {
   "cell_type": "code",
   "execution_count": 78,
   "metadata": {},
   "outputs": [
    {
     "data": {
      "text/plain": [
       "Estado_Civil\n",
       "CASADO (A)       3027\n",
       "DIVORCIADO        481\n",
       "OUTRO             652\n",
       "SOLTEIRO(A)      5087\n",
       "UNIÃO ESTAVEL     130\n",
       "VIÚVO(A)          140\n",
       "dtype: int64"
      ]
     },
     "execution_count": 78,
     "metadata": {},
     "output_type": "execute_result"
    }
   ],
   "source": [
    "# Estado civil dos clientes\n",
    "\n",
    "df_original.groupby(['Estado_Civil']).size()"
   ]
  },
  {
   "cell_type": "code",
   "execution_count": 80,
   "metadata": {},
   "outputs": [
    {
     "data": {
      "text/plain": [
       "Escolaridade\n",
       "Ensino Fundamental                        18\n",
       "Ensino Médio                             129\n",
       "Ensino Superior                           74\n",
       "Nenhum                                  2184\n",
       "Pós Graduação / Mestrado / Doutorado       7\n",
       "dtype: int64"
      ]
     },
     "execution_count": 80,
     "metadata": {},
     "output_type": "execute_result"
    }
   ],
   "source": [
    "# Escolaridade dos clientes\n",
    "\n",
    "df_original.groupby(['Escolaridade']).size()"
   ]
  },
  {
   "cell_type": "code",
   "execution_count": 84,
   "metadata": {},
   "outputs": [
    {
     "data": {
      "text/plain": [
       "Possui_Patrimonio\n",
       "N    9452\n",
       "S      65\n",
       "dtype: int64"
      ]
     },
     "execution_count": 84,
     "metadata": {},
     "output_type": "execute_result"
    }
   ],
   "source": [
    "# Patrimonio dos clientes\n",
    "\n",
    "df_original.groupby(['Possui_Patrimonio']).size()"
   ]
  },
  {
   "cell_type": "code",
   "execution_count": 86,
   "metadata": {},
   "outputs": [
    {
     "data": {
      "text/plain": [
       "VL_Patrimonio\n",
       "0.00         9512\n",
       "1000.00         4\n",
       "100000.00       1\n",
       "dtype: int64"
      ]
     },
     "execution_count": 86,
     "metadata": {},
     "output_type": "execute_result"
    }
   ],
   "source": [
    "# Valor do patrimonio dos clientes\n",
    "\n",
    "df_original.groupby(['VL_Patrimonio']).size()"
   ]
  },
  {
   "cell_type": "code",
   "execution_count": 88,
   "metadata": {},
   "outputs": [
    {
     "data": {
      "text/plain": [
       "Possivel_Fraude\n",
       "Nao    5035\n",
       "Sim    4482\n",
       "dtype: int64"
      ]
     },
     "execution_count": 88,
     "metadata": {},
     "output_type": "execute_result"
    }
   ],
   "source": [
    "# Variavel TARGET - ALVO\n",
    "\n",
    "df_original.groupby(['Possivel_Fraude']).size()"
   ]
  },
  {
   "cell_type": "markdown",
   "metadata": {},
   "source": [
    "### Tratando os dados que identifiquei que precisa ser ajustados em minha analise acima"
   ]
  },
  {
   "cell_type": "code",
   "execution_count": 95,
   "metadata": {},
   "outputs": [
    {
     "data": {
      "text/plain": [
       "Estado_Civil\n",
       "CASADO (A)     3157\n",
       "DIVORCIADO      481\n",
       "OUTRO           652\n",
       "SOLTEIRO(A)    5087\n",
       "VIÚVO(A)        140\n",
       "dtype: int64"
      ]
     },
     "execution_count": 95,
     "metadata": {},
     "output_type": "execute_result"
    }
   ],
   "source": [
    "# Ajustando ESTADO_CIVIL, mudança de nome\n",
    "# Vou mudar o nome do estado civil que está nenhum para outro.\n",
    "# Vou mudar o nome do estado civil de união estável para casado(a).\n",
    "\n",
    "df_original['Estado_Civil'] = df_original['Estado_Civil'].replace(['NENHUM'], 'OUTRO')\n",
    "df_original['Estado_Civil'] = df_original['Estado_Civil'].replace(['UNIÃO ESTAVEL'], 'CASADO (A)')\n",
    "\n",
    "df_original.groupby(['Estado_Civil']).size()"
   ]
  },
  {
   "cell_type": "code",
   "execution_count": 97,
   "metadata": {},
   "outputs": [
    {
     "data": {
      "text/plain": [
       "Faixa_Etaria\n",
       "Até 21 Anos           520\n",
       "De 22 até 30 Anos    2346\n",
       "De 31 até 40 Anos    2835\n",
       "De 41 até 50 Anos    2132\n",
       "De 51 até 60         1071\n",
       "Acima de 60 Anos      613\n",
       "dtype: int64"
      ]
     },
     "execution_count": 97,
     "metadata": {},
     "output_type": "execute_result"
    }
   ],
   "source": [
    "# Aqui vou fazer uma engenharia de atributos\n",
    "# Criando faixa etaria para utilizar no modelo preditivo\n",
    "\n",
    "bins = [0, 21, 30, 40, 50, 60, 100]\n",
    "labels = ['Até 21 Anos', 'De 22 até 30 Anos', 'De 31 até 40 Anos', 'De 41 até 50 Anos', 'De 51 até 60', 'Acima de 60 Anos']\n",
    "df_original['Faixa_Etaria'] = pd.cut(df_original['Idade'], bins=bins, labels=labels)\n",
    "df_original.groupby(['Faixa_Etaria']).size()"
   ]
  },
  {
   "cell_type": "code",
   "execution_count": 101,
   "metadata": {},
   "outputs": [
    {
     "data": {
      "text/html": [
       "<div>\n",
       "<style scoped>\n",
       "    .dataframe tbody tr th:only-of-type {\n",
       "        vertical-align: middle;\n",
       "    }\n",
       "\n",
       "    .dataframe tbody tr th {\n",
       "        vertical-align: top;\n",
       "    }\n",
       "\n",
       "    .dataframe thead th {\n",
       "        text-align: right;\n",
       "    }\n",
       "</style>\n",
       "<table border=\"1\" class=\"dataframe\">\n",
       "  <thead>\n",
       "    <tr style=\"text-align: right;\">\n",
       "      <th></th>\n",
       "      <th>Contrato</th>\n",
       "      <th>Idade</th>\n",
       "      <th>Sexo</th>\n",
       "      <th>Valor_Renda</th>\n",
       "      <th>UF_Cliente</th>\n",
       "      <th>Perc_Juros</th>\n",
       "      <th>Prazo_Emprestimo</th>\n",
       "      <th>Data_Contratacao</th>\n",
       "      <th>Prazo_Restante</th>\n",
       "      <th>VL_Emprestimo</th>\n",
       "      <th>VL_Emprestimo_ComJuros</th>\n",
       "      <th>QT_Total_Parcelas_Pagas</th>\n",
       "      <th>QT_Total_Parcelas_Pagas_EmDia</th>\n",
       "      <th>QT_Total_Parcelas_Pagas_EmAtraso</th>\n",
       "      <th>Qt_Renegociacao</th>\n",
       "      <th>Estado_Civil</th>\n",
       "      <th>Escolaridade</th>\n",
       "      <th>Possui_Patrimonio</th>\n",
       "      <th>VL_Patrimonio</th>\n",
       "      <th>QT_Parcelas_Atraso</th>\n",
       "      <th>QT_Dias_Atraso</th>\n",
       "      <th>Saldo_Devedor</th>\n",
       "      <th>Total_Pago</th>\n",
       "      <th>Possivel_Fraude</th>\n",
       "      <th>Faixa_Etaria</th>\n",
       "    </tr>\n",
       "  </thead>\n",
       "  <tbody>\n",
       "    <tr>\n",
       "      <th>0</th>\n",
       "      <td>322068935715</td>\n",
       "      <td>43</td>\n",
       "      <td>M</td>\n",
       "      <td>5800.00</td>\n",
       "      <td>SP</td>\n",
       "      <td>23.00</td>\n",
       "      <td>200</td>\n",
       "      <td>2022-08-01</td>\n",
       "      <td>193</td>\n",
       "      <td>80000.00</td>\n",
       "      <td>92000.00</td>\n",
       "      <td>15</td>\n",
       "      <td>9</td>\n",
       "      <td>1</td>\n",
       "      <td>0</td>\n",
       "      <td>DIVORCIADO</td>\n",
       "      <td>Nenhum</td>\n",
       "      <td>N</td>\n",
       "      <td>0.00</td>\n",
       "      <td>0</td>\n",
       "      <td>NaN</td>\n",
       "      <td>91759.97</td>\n",
       "      <td>7717.08</td>\n",
       "      <td>Nao</td>\n",
       "      <td>De 41 até 50 Anos</td>\n",
       "    </tr>\n",
       "    <tr>\n",
       "      <th>1</th>\n",
       "      <td>322068936715</td>\n",
       "      <td>22</td>\n",
       "      <td>M</td>\n",
       "      <td>2000.00</td>\n",
       "      <td>MG</td>\n",
       "      <td>20.00</td>\n",
       "      <td>100</td>\n",
       "      <td>2022-08-01</td>\n",
       "      <td>89</td>\n",
       "      <td>50000.00</td>\n",
       "      <td>57500.00</td>\n",
       "      <td>10</td>\n",
       "      <td>10</td>\n",
       "      <td>0</td>\n",
       "      <td>0</td>\n",
       "      <td>SOLTEIRO(A)</td>\n",
       "      <td>NaN</td>\n",
       "      <td>N</td>\n",
       "      <td>0.00</td>\n",
       "      <td>4</td>\n",
       "      <td>103.00</td>\n",
       "      <td>53981.18</td>\n",
       "      <td>6756.59</td>\n",
       "      <td>Nao</td>\n",
       "      <td>De 22 até 30 Anos</td>\n",
       "    </tr>\n",
       "    <tr>\n",
       "      <th>2</th>\n",
       "      <td>322068938715</td>\n",
       "      <td>35</td>\n",
       "      <td>M</td>\n",
       "      <td>4000.00</td>\n",
       "      <td>BA</td>\n",
       "      <td>18.00</td>\n",
       "      <td>100</td>\n",
       "      <td>2022-08-01</td>\n",
       "      <td>85</td>\n",
       "      <td>100000.00</td>\n",
       "      <td>115000.00</td>\n",
       "      <td>15</td>\n",
       "      <td>5</td>\n",
       "      <td>1</td>\n",
       "      <td>0</td>\n",
       "      <td>CASADO (A)</td>\n",
       "      <td>NaN</td>\n",
       "      <td>N</td>\n",
       "      <td>0.00</td>\n",
       "      <td>0</td>\n",
       "      <td>NaN</td>\n",
       "      <td>101150.02</td>\n",
       "      <td>17929.06</td>\n",
       "      <td>Nao</td>\n",
       "      <td>De 31 até 40 Anos</td>\n",
       "    </tr>\n",
       "    <tr>\n",
       "      <th>3</th>\n",
       "      <td>322068939715</td>\n",
       "      <td>20</td>\n",
       "      <td>M</td>\n",
       "      <td>1800.00</td>\n",
       "      <td>MG</td>\n",
       "      <td>20.00</td>\n",
       "      <td>100</td>\n",
       "      <td>2022-08-01</td>\n",
       "      <td>89</td>\n",
       "      <td>30000.00</td>\n",
       "      <td>34500.00</td>\n",
       "      <td>1</td>\n",
       "      <td>1</td>\n",
       "      <td>0</td>\n",
       "      <td>0</td>\n",
       "      <td>SOLTEIRO(A)</td>\n",
       "      <td>NaN</td>\n",
       "      <td>N</td>\n",
       "      <td>0.00</td>\n",
       "      <td>13</td>\n",
       "      <td>376.00</td>\n",
       "      <td>36208.10</td>\n",
       "      <td>369.10</td>\n",
       "      <td>Sim</td>\n",
       "      <td>Até 21 Anos</td>\n",
       "    </tr>\n",
       "    <tr>\n",
       "      <th>4</th>\n",
       "      <td>322068940715</td>\n",
       "      <td>53</td>\n",
       "      <td>M</td>\n",
       "      <td>2800.00</td>\n",
       "      <td>MG</td>\n",
       "      <td>20.00</td>\n",
       "      <td>100</td>\n",
       "      <td>2022-08-01</td>\n",
       "      <td>87</td>\n",
       "      <td>60000.00</td>\n",
       "      <td>69000.00</td>\n",
       "      <td>16</td>\n",
       "      <td>16</td>\n",
       "      <td>0</td>\n",
       "      <td>0</td>\n",
       "      <td>CASADO (A)</td>\n",
       "      <td>NaN</td>\n",
       "      <td>N</td>\n",
       "      <td>0.00</td>\n",
       "      <td>0</td>\n",
       "      <td>NaN</td>\n",
       "      <td>60984.00</td>\n",
       "      <td>11845.24</td>\n",
       "      <td>Nao</td>\n",
       "      <td>De 51 até 60</td>\n",
       "    </tr>\n",
       "  </tbody>\n",
       "</table>\n",
       "</div>"
      ],
      "text/plain": [
       "       Contrato  Idade Sexo  Valor_Renda UF_Cliente  Perc_Juros  \\\n",
       "0  322068935715     43    M      5800.00         SP       23.00   \n",
       "1  322068936715     22    M      2000.00         MG       20.00   \n",
       "2  322068938715     35    M      4000.00         BA       18.00   \n",
       "3  322068939715     20    M      1800.00         MG       20.00   \n",
       "4  322068940715     53    M      2800.00         MG       20.00   \n",
       "\n",
       "   Prazo_Emprestimo Data_Contratacao  Prazo_Restante  VL_Emprestimo  \\\n",
       "0               200       2022-08-01             193       80000.00   \n",
       "1               100       2022-08-01              89       50000.00   \n",
       "2               100       2022-08-01              85      100000.00   \n",
       "3               100       2022-08-01              89       30000.00   \n",
       "4               100       2022-08-01              87       60000.00   \n",
       "\n",
       "   VL_Emprestimo_ComJuros  QT_Total_Parcelas_Pagas  \\\n",
       "0                92000.00                       15   \n",
       "1                57500.00                       10   \n",
       "2               115000.00                       15   \n",
       "3                34500.00                        1   \n",
       "4                69000.00                       16   \n",
       "\n",
       "   QT_Total_Parcelas_Pagas_EmDia  QT_Total_Parcelas_Pagas_EmAtraso  \\\n",
       "0                              9                                 1   \n",
       "1                             10                                 0   \n",
       "2                              5                                 1   \n",
       "3                              1                                 0   \n",
       "4                             16                                 0   \n",
       "\n",
       "   Qt_Renegociacao Estado_Civil Escolaridade Possui_Patrimonio  VL_Patrimonio  \\\n",
       "0                0   DIVORCIADO       Nenhum                 N           0.00   \n",
       "1                0  SOLTEIRO(A)          NaN                 N           0.00   \n",
       "2                0   CASADO (A)          NaN                 N           0.00   \n",
       "3                0  SOLTEIRO(A)          NaN                 N           0.00   \n",
       "4                0   CASADO (A)          NaN                 N           0.00   \n",
       "\n",
       "   QT_Parcelas_Atraso  QT_Dias_Atraso  Saldo_Devedor  Total_Pago  \\\n",
       "0                   0             NaN       91759.97     7717.08   \n",
       "1                   4          103.00       53981.18     6756.59   \n",
       "2                   0             NaN      101150.02    17929.06   \n",
       "3                  13          376.00       36208.10      369.10   \n",
       "4                   0             NaN       60984.00    11845.24   \n",
       "\n",
       "  Possivel_Fraude       Faixa_Etaria  \n",
       "0             Nao  De 41 até 50 Anos  \n",
       "1             Nao  De 22 até 30 Anos  \n",
       "2             Nao  De 31 até 40 Anos  \n",
       "3             Sim        Até 21 Anos  \n",
       "4             Nao       De 51 até 60  "
      ]
     },
     "execution_count": 101,
     "metadata": {},
     "output_type": "execute_result"
    }
   ],
   "source": [
    "# Agora podemos ver no final que foi adicionada uma outra coluna chamada FAIXA ETÁRIA.\n",
    "\n",
    "df_original.head()"
   ]
  },
  {
   "cell_type": "code",
   "execution_count": 103,
   "metadata": {},
   "outputs": [
    {
     "data": {
      "text/plain": [
       "Faixa_Salarial\n",
       "Até 1k              19\n",
       "De 1k até 2k      2012\n",
       "De 2k até 3k      2522\n",
       "De 3k até 5k      2646\n",
       "De 5k até 10k     1574\n",
       "De 10k até 20k     488\n",
       "De 20k até 30k     137\n",
       "Acima de 50k       119\n",
       "dtype: int64"
      ]
     },
     "execution_count": 103,
     "metadata": {},
     "output_type": "execute_result"
    }
   ],
   "source": [
    "# Criando faixa salarial para utilizarmos no modelo preditivo\n",
    "\n",
    "bins = [-100, 1000, 2000, 3000, 5000, 10000, 20000, 30000, 9000000000]\n",
    "labels = ['Até 1k', 'De 1k até 2k', 'De 2k até 3k', 'De 3k até 5k', 'De 5k até 10k', 'De 10k até 20k',\n",
    "          'De 20k até 30k', 'Acima de 50k']\n",
    "df_original['Faixa_Salarial'] = pd.cut(df_original['Valor_Renda'], bins=bins, labels=labels)\n",
    "df_original.groupby(['Faixa_Salarial']).size()"
   ]
  },
  {
   "cell_type": "code",
   "execution_count": 105,
   "metadata": {},
   "outputs": [
    {
     "data": {
      "text/plain": [
       "284.0"
      ]
     },
     "execution_count": 105,
     "metadata": {},
     "output_type": "execute_result"
    }
   ],
   "source": [
    "# Precisotratar os valores nulos dessa variavel ANTES de fazer a engenharia de atributos\n",
    "# Vou preencher os valores nulos usando a mediana dos dados\n",
    "# Aqui nesse codigo eu descubro qual é a mediana dessa coluna\n",
    "\n",
    "df_original['QT_Dias_Atraso'].median()"
   ]
  },
  {
   "cell_type": "code",
   "execution_count": 107,
   "metadata": {},
   "outputs": [],
   "source": [
    "# Preenchendo os valores nulo com a mediana\n",
    "\n",
    "df_original['QT_Dias_Atraso'] = df_original['QT_Dias_Atraso'].fillna((df_original['QT_Dias_Atraso'].median()))"
   ]
  },
  {
   "cell_type": "code",
   "execution_count": 111,
   "metadata": {},
   "outputs": [
    {
     "data": {
      "text/plain": [
       "Contrato                               0\n",
       "Idade                                  0\n",
       "Sexo                                   0\n",
       "Valor_Renda                            0\n",
       "UF_Cliente                             0\n",
       "Perc_Juros                             0\n",
       "Prazo_Emprestimo                       0\n",
       "Data_Contratacao                       0\n",
       "Prazo_Restante                         0\n",
       "VL_Emprestimo                          0\n",
       "VL_Emprestimo_ComJuros                 0\n",
       "QT_Total_Parcelas_Pagas                0\n",
       "QT_Total_Parcelas_Pagas_EmDia          0\n",
       "QT_Total_Parcelas_Pagas_EmAtraso       0\n",
       "Qt_Renegociacao                        0\n",
       "Estado_Civil                           0\n",
       "Escolaridade                        7105\n",
       "Possui_Patrimonio                      0\n",
       "VL_Patrimonio                          0\n",
       "QT_Parcelas_Atraso                     0\n",
       "QT_Dias_Atraso                         0\n",
       "Saldo_Devedor                          0\n",
       "Total_Pago                             0\n",
       "Possivel_Fraude                        0\n",
       "Faixa_Etaria                           0\n",
       "Faixa_Salarial                         0\n",
       "dtype: int64"
      ]
     },
     "execution_count": 111,
     "metadata": {},
     "output_type": "execute_result"
    }
   ],
   "source": [
    "# Agora podemos perceber que tirei os valores nulos da variável QT_DIAS_ATRASO\n",
    "\n",
    "df_original.isnull().sum()"
   ]
  },
  {
   "cell_type": "code",
   "execution_count": 113,
   "metadata": {},
   "outputs": [
    {
     "data": {
      "text/plain": [
       "Faixa_Dias_Atraso\n",
       "Até 30 dias        532\n",
       "De 31 até 60       255\n",
       "De 61 até 90       190\n",
       "De 91 até 180      587\n",
       "De 181 até 240     593\n",
       "De 241 até 360    6259\n",
       "Acima de 360      1101\n",
       "dtype: int64"
      ]
     },
     "execution_count": 113,
     "metadata": {},
     "output_type": "execute_result"
    }
   ],
   "source": [
    "# Criando faixa de dias em atraso da cota para utilizarmos no modelo preditivo\n",
    "\n",
    "bins = [-100, 30, 60, 90, 180, 240, 360, 500]\n",
    "labels = ['Até 30 dias', 'De 31 até 60', 'De 61 até 90', 'De 91 até 180', 'De 181 até 240','De 241 até 360', 'Acima de 360']\n",
    "df_original['Faixa_Dias_Atraso'] = pd.cut(df_original['QT_Dias_Atraso'], bins=bins, labels=labels)\n",
    "df_original.groupby(['Faixa_Dias_Atraso']).size()"
   ]
  },
  {
   "cell_type": "code",
   "execution_count": 115,
   "metadata": {},
   "outputs": [
    {
     "data": {
      "text/plain": [
       "Faixa_Prazo_Emprestimo\n",
       "De 61 até 120 Meses     3567\n",
       "Até 60 Meses            2955\n",
       "De 121 até 200 Meses    2814\n",
       "Acima de 200 Meses       181\n",
       "Name: count, dtype: int64"
      ]
     },
     "execution_count": 115,
     "metadata": {},
     "output_type": "execute_result"
    }
   ],
   "source": [
    "# Criando faixa de prazo de emprestimo para utilizarmos no modelo preditivo\n",
    "\n",
    "bins = [0, 60, 120, 200, 720]\n",
    "labels = ['Até 60 Meses', 'De 61 até 120 Meses', 'De 121 até 200 Meses', 'Acima de 200 Meses']\n",
    "df_original['Faixa_Prazo_Emprestimo'] = pd.cut(df_original['Prazo_Emprestimo'], bins=bins, labels=labels)\n",
    "pd.value_counts(df_original.Faixa_Prazo_Emprestimo)"
   ]
  },
  {
   "cell_type": "code",
   "execution_count": 119,
   "metadata": {},
   "outputs": [
    {
     "data": {
      "text/plain": [
       "Faixa_Prazo_Restante\n",
       "De 61 até 120 Meses     3679\n",
       "Até 60 Meses            2742\n",
       "De 121 até 200 Meses    2026\n",
       "Acima de 200 Meses      1070\n",
       "Name: count, dtype: int64"
      ]
     },
     "execution_count": 119,
     "metadata": {},
     "output_type": "execute_result"
    }
   ],
   "source": [
    "# Criando faixa de prazo restante do emprestimo para utilizarmos no modelo preditivo\n",
    "\n",
    "bins = [-1, 60, 120, 200, 500]\n",
    "labels = ['Até 60 Meses', 'De 61 até 120 Meses', 'De 121 até 200 Meses', 'Acima de 200 Meses']\n",
    "df_original['Faixa_Prazo_Restante'] = pd.cut(df_original['Prazo_Restante'], bins=bins, labels=labels)\n",
    "pd.value_counts(df_original.Faixa_Prazo_Restante)"
   ]
  },
  {
   "cell_type": "code",
   "execution_count": 121,
   "metadata": {},
   "outputs": [
    {
     "data": {
      "text/html": [
       "<div>\n",
       "<style scoped>\n",
       "    .dataframe tbody tr th:only-of-type {\n",
       "        vertical-align: middle;\n",
       "    }\n",
       "\n",
       "    .dataframe tbody tr th {\n",
       "        vertical-align: top;\n",
       "    }\n",
       "\n",
       "    .dataframe thead th {\n",
       "        text-align: right;\n",
       "    }\n",
       "</style>\n",
       "<table border=\"1\" class=\"dataframe\">\n",
       "  <thead>\n",
       "    <tr style=\"text-align: right;\">\n",
       "      <th></th>\n",
       "      <th>Contrato</th>\n",
       "      <th>Idade</th>\n",
       "      <th>Sexo</th>\n",
       "      <th>Valor_Renda</th>\n",
       "      <th>UF_Cliente</th>\n",
       "      <th>Perc_Juros</th>\n",
       "      <th>Prazo_Emprestimo</th>\n",
       "      <th>Data_Contratacao</th>\n",
       "      <th>Prazo_Restante</th>\n",
       "      <th>VL_Emprestimo</th>\n",
       "      <th>VL_Emprestimo_ComJuros</th>\n",
       "      <th>QT_Total_Parcelas_Pagas</th>\n",
       "      <th>QT_Total_Parcelas_Pagas_EmDia</th>\n",
       "      <th>QT_Total_Parcelas_Pagas_EmAtraso</th>\n",
       "      <th>Qt_Renegociacao</th>\n",
       "      <th>Estado_Civil</th>\n",
       "      <th>Escolaridade</th>\n",
       "      <th>Possui_Patrimonio</th>\n",
       "      <th>VL_Patrimonio</th>\n",
       "      <th>QT_Parcelas_Atraso</th>\n",
       "      <th>QT_Dias_Atraso</th>\n",
       "      <th>Saldo_Devedor</th>\n",
       "      <th>Total_Pago</th>\n",
       "      <th>Possivel_Fraude</th>\n",
       "      <th>Faixa_Etaria</th>\n",
       "      <th>Faixa_Salarial</th>\n",
       "      <th>Faixa_Dias_Atraso</th>\n",
       "      <th>Faixa_Prazo_Emprestimo</th>\n",
       "      <th>Faixa_Prazo_Restante</th>\n",
       "    </tr>\n",
       "  </thead>\n",
       "  <tbody>\n",
       "    <tr>\n",
       "      <th>0</th>\n",
       "      <td>322068935715</td>\n",
       "      <td>43</td>\n",
       "      <td>M</td>\n",
       "      <td>5800.00</td>\n",
       "      <td>SP</td>\n",
       "      <td>23.00</td>\n",
       "      <td>200</td>\n",
       "      <td>2022-08-01</td>\n",
       "      <td>193</td>\n",
       "      <td>80000.00</td>\n",
       "      <td>92000.00</td>\n",
       "      <td>15</td>\n",
       "      <td>9</td>\n",
       "      <td>1</td>\n",
       "      <td>0</td>\n",
       "      <td>DIVORCIADO</td>\n",
       "      <td>Nenhum</td>\n",
       "      <td>N</td>\n",
       "      <td>0.00</td>\n",
       "      <td>0</td>\n",
       "      <td>284.00</td>\n",
       "      <td>91759.97</td>\n",
       "      <td>7717.08</td>\n",
       "      <td>Nao</td>\n",
       "      <td>De 41 até 50 Anos</td>\n",
       "      <td>De 5k até 10k</td>\n",
       "      <td>De 241 até 360</td>\n",
       "      <td>De 121 até 200 Meses</td>\n",
       "      <td>De 121 até 200 Meses</td>\n",
       "    </tr>\n",
       "    <tr>\n",
       "      <th>1</th>\n",
       "      <td>322068936715</td>\n",
       "      <td>22</td>\n",
       "      <td>M</td>\n",
       "      <td>2000.00</td>\n",
       "      <td>MG</td>\n",
       "      <td>20.00</td>\n",
       "      <td>100</td>\n",
       "      <td>2022-08-01</td>\n",
       "      <td>89</td>\n",
       "      <td>50000.00</td>\n",
       "      <td>57500.00</td>\n",
       "      <td>10</td>\n",
       "      <td>10</td>\n",
       "      <td>0</td>\n",
       "      <td>0</td>\n",
       "      <td>SOLTEIRO(A)</td>\n",
       "      <td>NaN</td>\n",
       "      <td>N</td>\n",
       "      <td>0.00</td>\n",
       "      <td>4</td>\n",
       "      <td>103.00</td>\n",
       "      <td>53981.18</td>\n",
       "      <td>6756.59</td>\n",
       "      <td>Nao</td>\n",
       "      <td>De 22 até 30 Anos</td>\n",
       "      <td>De 1k até 2k</td>\n",
       "      <td>De 91 até 180</td>\n",
       "      <td>De 61 até 120 Meses</td>\n",
       "      <td>De 61 até 120 Meses</td>\n",
       "    </tr>\n",
       "    <tr>\n",
       "      <th>2</th>\n",
       "      <td>322068938715</td>\n",
       "      <td>35</td>\n",
       "      <td>M</td>\n",
       "      <td>4000.00</td>\n",
       "      <td>BA</td>\n",
       "      <td>18.00</td>\n",
       "      <td>100</td>\n",
       "      <td>2022-08-01</td>\n",
       "      <td>85</td>\n",
       "      <td>100000.00</td>\n",
       "      <td>115000.00</td>\n",
       "      <td>15</td>\n",
       "      <td>5</td>\n",
       "      <td>1</td>\n",
       "      <td>0</td>\n",
       "      <td>CASADO (A)</td>\n",
       "      <td>NaN</td>\n",
       "      <td>N</td>\n",
       "      <td>0.00</td>\n",
       "      <td>0</td>\n",
       "      <td>284.00</td>\n",
       "      <td>101150.02</td>\n",
       "      <td>17929.06</td>\n",
       "      <td>Nao</td>\n",
       "      <td>De 31 até 40 Anos</td>\n",
       "      <td>De 3k até 5k</td>\n",
       "      <td>De 241 até 360</td>\n",
       "      <td>De 61 até 120 Meses</td>\n",
       "      <td>De 61 até 120 Meses</td>\n",
       "    </tr>\n",
       "    <tr>\n",
       "      <th>3</th>\n",
       "      <td>322068939715</td>\n",
       "      <td>20</td>\n",
       "      <td>M</td>\n",
       "      <td>1800.00</td>\n",
       "      <td>MG</td>\n",
       "      <td>20.00</td>\n",
       "      <td>100</td>\n",
       "      <td>2022-08-01</td>\n",
       "      <td>89</td>\n",
       "      <td>30000.00</td>\n",
       "      <td>34500.00</td>\n",
       "      <td>1</td>\n",
       "      <td>1</td>\n",
       "      <td>0</td>\n",
       "      <td>0</td>\n",
       "      <td>SOLTEIRO(A)</td>\n",
       "      <td>NaN</td>\n",
       "      <td>N</td>\n",
       "      <td>0.00</td>\n",
       "      <td>13</td>\n",
       "      <td>376.00</td>\n",
       "      <td>36208.10</td>\n",
       "      <td>369.10</td>\n",
       "      <td>Sim</td>\n",
       "      <td>Até 21 Anos</td>\n",
       "      <td>De 1k até 2k</td>\n",
       "      <td>Acima de 360</td>\n",
       "      <td>De 61 até 120 Meses</td>\n",
       "      <td>De 61 até 120 Meses</td>\n",
       "    </tr>\n",
       "    <tr>\n",
       "      <th>4</th>\n",
       "      <td>322068940715</td>\n",
       "      <td>53</td>\n",
       "      <td>M</td>\n",
       "      <td>2800.00</td>\n",
       "      <td>MG</td>\n",
       "      <td>20.00</td>\n",
       "      <td>100</td>\n",
       "      <td>2022-08-01</td>\n",
       "      <td>87</td>\n",
       "      <td>60000.00</td>\n",
       "      <td>69000.00</td>\n",
       "      <td>16</td>\n",
       "      <td>16</td>\n",
       "      <td>0</td>\n",
       "      <td>0</td>\n",
       "      <td>CASADO (A)</td>\n",
       "      <td>NaN</td>\n",
       "      <td>N</td>\n",
       "      <td>0.00</td>\n",
       "      <td>0</td>\n",
       "      <td>284.00</td>\n",
       "      <td>60984.00</td>\n",
       "      <td>11845.24</td>\n",
       "      <td>Nao</td>\n",
       "      <td>De 51 até 60</td>\n",
       "      <td>De 2k até 3k</td>\n",
       "      <td>De 241 até 360</td>\n",
       "      <td>De 61 até 120 Meses</td>\n",
       "      <td>De 61 até 120 Meses</td>\n",
       "    </tr>\n",
       "  </tbody>\n",
       "</table>\n",
       "</div>"
      ],
      "text/plain": [
       "       Contrato  Idade Sexo  Valor_Renda UF_Cliente  Perc_Juros  \\\n",
       "0  322068935715     43    M      5800.00         SP       23.00   \n",
       "1  322068936715     22    M      2000.00         MG       20.00   \n",
       "2  322068938715     35    M      4000.00         BA       18.00   \n",
       "3  322068939715     20    M      1800.00         MG       20.00   \n",
       "4  322068940715     53    M      2800.00         MG       20.00   \n",
       "\n",
       "   Prazo_Emprestimo Data_Contratacao  Prazo_Restante  VL_Emprestimo  \\\n",
       "0               200       2022-08-01             193       80000.00   \n",
       "1               100       2022-08-01              89       50000.00   \n",
       "2               100       2022-08-01              85      100000.00   \n",
       "3               100       2022-08-01              89       30000.00   \n",
       "4               100       2022-08-01              87       60000.00   \n",
       "\n",
       "   VL_Emprestimo_ComJuros  QT_Total_Parcelas_Pagas  \\\n",
       "0                92000.00                       15   \n",
       "1                57500.00                       10   \n",
       "2               115000.00                       15   \n",
       "3                34500.00                        1   \n",
       "4                69000.00                       16   \n",
       "\n",
       "   QT_Total_Parcelas_Pagas_EmDia  QT_Total_Parcelas_Pagas_EmAtraso  \\\n",
       "0                              9                                 1   \n",
       "1                             10                                 0   \n",
       "2                              5                                 1   \n",
       "3                              1                                 0   \n",
       "4                             16                                 0   \n",
       "\n",
       "   Qt_Renegociacao Estado_Civil Escolaridade Possui_Patrimonio  VL_Patrimonio  \\\n",
       "0                0   DIVORCIADO       Nenhum                 N           0.00   \n",
       "1                0  SOLTEIRO(A)          NaN                 N           0.00   \n",
       "2                0   CASADO (A)          NaN                 N           0.00   \n",
       "3                0  SOLTEIRO(A)          NaN                 N           0.00   \n",
       "4                0   CASADO (A)          NaN                 N           0.00   \n",
       "\n",
       "   QT_Parcelas_Atraso  QT_Dias_Atraso  Saldo_Devedor  Total_Pago  \\\n",
       "0                   0          284.00       91759.97     7717.08   \n",
       "1                   4          103.00       53981.18     6756.59   \n",
       "2                   0          284.00      101150.02    17929.06   \n",
       "3                  13          376.00       36208.10      369.10   \n",
       "4                   0          284.00       60984.00    11845.24   \n",
       "\n",
       "  Possivel_Fraude       Faixa_Etaria Faixa_Salarial Faixa_Dias_Atraso  \\\n",
       "0             Nao  De 41 até 50 Anos  De 5k até 10k    De 241 até 360   \n",
       "1             Nao  De 22 até 30 Anos   De 1k até 2k     De 91 até 180   \n",
       "2             Nao  De 31 até 40 Anos   De 3k até 5k    De 241 até 360   \n",
       "3             Sim        Até 21 Anos   De 1k até 2k      Acima de 360   \n",
       "4             Nao       De 51 até 60   De 2k até 3k    De 241 até 360   \n",
       "\n",
       "  Faixa_Prazo_Emprestimo  Faixa_Prazo_Restante  \n",
       "0   De 121 até 200 Meses  De 121 até 200 Meses  \n",
       "1    De 61 até 120 Meses   De 61 até 120 Meses  \n",
       "2    De 61 até 120 Meses   De 61 até 120 Meses  \n",
       "3    De 61 até 120 Meses   De 61 até 120 Meses  \n",
       "4    De 61 até 120 Meses   De 61 até 120 Meses  "
      ]
     },
     "execution_count": 121,
     "metadata": {},
     "output_type": "execute_result"
    }
   ],
   "source": [
    "df_original.head()"
   ]
  },
  {
   "cell_type": "markdown",
   "metadata": {},
   "source": [
    "## Agora após os ajustes vou visualizar de forma gráfica para avaliar melhor"
   ]
  },
  {
   "cell_type": "code",
   "execution_count": 148,
   "metadata": {},
   "outputs": [
    {
     "data": {
      "image/png": "[encoded data removed]",
      "text/plain": [
       "<Figure size 300x300 with 1 Axes>"
      ]
     },
     "metadata": {},
     "output_type": "display_data"
    }
   ],
   "source": [
    "# Value_counts vai contar cada registro que tenha dentro da coluna SEXO.\n",
    "\n",
    "plt.figure(figsize=(3,3)) \n",
    "df_original.Sexo.value_counts().plot(kind='bar', title='Sexo',color = ['#1F77B4', '#FF7F0E']);"
   ]
  },
  {
   "cell_type": "code",
   "execution_count": 156,
   "metadata": {},
   "outputs": [
    {
     "data": {
      "image/png": "[encoded data removed]",
      "text/plain": [
       "<Figure size 600x400 with 1 Axes>"
      ]
     },
     "metadata": {},
     "output_type": "display_data"
    }
   ],
   "source": [
    "plt.figure(figsize=(6,4)) \n",
    "df_original.UF_Cliente.value_counts().plot(kind='bar', title='UF Cliente',color = ['#1F77B4', '#FF7F0E']);"
   ]
  },
  {
   "cell_type": "code",
   "execution_count": 160,
   "metadata": {},
   "outputs": [
    {
     "data": {
      "image/png": "[encoded data removed]",
      "text/plain": [
       "<Figure size 500x400 with 1 Axes>"
      ]
     },
     "metadata": {},
     "output_type": "display_data"
    }
   ],
   "source": [
    "plt.figure(figsize=(5,4)) \n",
    "df_original.Faixa_Prazo_Emprestimo.value_counts().plot(kind='bar', title='Prazo Emprestimo',color = ['#1F77B4', '#FF7F0E']);"
   ]
  },
  {
   "cell_type": "code",
   "execution_count": 162,
   "metadata": {},
   "outputs": [
    {
     "data": {
      "image/png": "[encoded data removed]",
      "text/plain": [
       "<Figure size 500x400 with 1 Axes>"
      ]
     },
     "metadata": {},
     "output_type": "display_data"
    }
   ],
   "source": [
    "plt.figure(figsize=(5,4))\n",
    "df_original.Faixa_Prazo_Restante.value_counts().plot(kind='bar', title='Prazo Restante',color = ['#1F77B4', '#FF7F0E']);"
   ]
  },
  {
   "cell_type": "code",
   "execution_count": 164,
   "metadata": {},
   "outputs": [
    {
     "data": {
      "image/png": "[encoded data removed]",
      "text/plain": [
       "<Figure size 500x400 with 1 Axes>"
      ]
     },
     "metadata": {},
     "output_type": "display_data"
    }
   ],
   "source": [
    "plt.figure(figsize=(5,4))\n",
    "df_original.Estado_Civil.value_counts().plot(kind='bar', title='Estado Civil',color = ['#1F77B4', '#FF7F0E']);"
   ]
  },
  {
   "cell_type": "code",
   "execution_count": 166,
   "metadata": {},
   "outputs": [
    {
     "data": {
      "image/png": "[encoded data removed]",
      "text/plain": [
       "<Figure size 500x400 with 1 Axes>"
      ]
     },
     "metadata": {},
     "output_type": "display_data"
    }
   ],
   "source": [
    "plt.figure(figsize=(5,4))\n",
    "df_original.Escolaridade.value_counts().plot(kind='bar', title='Escolaridade',color = ['#1F77B4', '#FF7F0E']);"
   ]
  },
  {
   "cell_type": "code",
   "execution_count": 168,
   "metadata": {},
   "outputs": [
    {
     "data": {
      "image/png": "[encoded data removed]",
      "text/plain": [
       "<Figure size 500x400 with 1 Axes>"
      ]
     },
     "metadata": {},
     "output_type": "display_data"
    }
   ],
   "source": [
    "plt.figure(figsize=(5,4))\n",
    "df_original.Faixa_Dias_Atraso.value_counts().plot(kind='bar', title='Faixa Dias Atraso',color = ['#1F77B4', '#FF7F0E']);"
   ]
  },
  {
   "cell_type": "code",
   "execution_count": 170,
   "metadata": {},
   "outputs": [
    {
     "data": {
      "image/png": "[encoded data removed]",
      "text/plain": [
       "<Figure size 500x400 with 1 Axes>"
      ]
     },
     "metadata": {},
     "output_type": "display_data"
    }
   ],
   "source": [
    "plt.figure(figsize=(5,4))\n",
    "df_original.Faixa_Salarial.value_counts().plot(kind='bar', title='Faixa Salarial',color = ['#1F77B4', '#FF7F0E']);"
   ]
  },
  {
   "cell_type": "code",
   "execution_count": 172,
   "metadata": {},
   "outputs": [
    {
     "data": {
      "image/png": "[encoded data removed]",
      "text/plain": [
       "<Figure size 500x400 with 1 Axes>"
      ]
     },
     "metadata": {},
     "output_type": "display_data"
    }
   ],
   "source": [
    "plt.figure(figsize=(5,4))\n",
    "df_original.Possui_Patrimonio.value_counts().plot(kind='bar', title='Possui Patrimonio',color = ['#1F77B4', '#FF7F0E']);"
   ]
  },
  {
   "cell_type": "code",
   "execution_count": 174,
   "metadata": {},
   "outputs": [
    {
     "data": {
      "image/png": "[encoded data removed]",
      "text/plain": [
       "<Figure size 500x400 with 1 Axes>"
      ]
     },
     "metadata": {},
     "output_type": "display_data"
    }
   ],
   "source": [
    "plt.figure(figsize=(5,4))\n",
    "df_original.Faixa_Etaria.value_counts().plot(kind='bar', title='Faixa Etaria',color = ['#1F77B4', '#FF7F0E']);"
   ]
  },
  {
   "cell_type": "code",
   "execution_count": 178,
   "metadata": {},
   "outputs": [
    {
     "data": {
      "image/png": "[encoded data removed]",
      "text/plain": [
       "<Figure size 500x400 with 1 Axes>"
      ]
     },
     "metadata": {},
     "output_type": "display_data"
    }
   ],
   "source": [
    "#Analisando como a variavel alvo está distribuida.\n",
    "#Aqui podemos observar que há muito mais cotas como NÃO POSSÍVEL FRAUDE\n",
    "#dessa forma, precisaremos balancear o dataset mais adiante.\n",
    "\n",
    "plt.figure(figsize=(5,4))\n",
    "df_original.Possivel_Fraude.value_counts().plot(kind='bar', title='Possíveis Fraudes',color = ['#1F77B4', '#FF7F0E']);"
   ]
  },
  {
   "cell_type": "code",
   "execution_count": 182,
   "metadata": {},
   "outputs": [
    {
     "name": "stdout",
     "output_type": "stream",
     "text": [
      "<class 'pandas.core.frame.DataFrame'>\n",
      "RangeIndex: 9517 entries, 0 to 9516\n",
      "Data columns (total 29 columns):\n",
      " #   Column                            Non-Null Count  Dtype   \n",
      "---  ------                            --------------  -----   \n",
      " 0   Contrato                          9517 non-null   int64   \n",
      " 1   Idade                             9517 non-null   int64   \n",
      " 2   Sexo                              9517 non-null   object  \n",
      " 3   Valor_Renda                       9517 non-null   float64 \n",
      " 4   UF_Cliente                        9517 non-null   object  \n",
      " 5   Perc_Juros                        9517 non-null   float64 \n",
      " 6   Prazo_Emprestimo                  9517 non-null   int64   \n",
      " 7   Data_Contratacao                  9517 non-null   object  \n",
      " 8   Prazo_Restante                    9517 non-null   int64   \n",
      " 9   VL_Emprestimo                     9517 non-null   float64 \n",
      " 10  VL_Emprestimo_ComJuros            9517 non-null   float64 \n",
      " 11  QT_Total_Parcelas_Pagas           9517 non-null   int64   \n",
      " 12  QT_Total_Parcelas_Pagas_EmDia     9517 non-null   int64   \n",
      " 13  QT_Total_Parcelas_Pagas_EmAtraso  9517 non-null   int64   \n",
      " 14  Qt_Renegociacao                   9517 non-null   int64   \n",
      " 15  Estado_Civil                      9517 non-null   object  \n",
      " 16  Escolaridade                      2412 non-null   object  \n",
      " 17  Possui_Patrimonio                 9517 non-null   object  \n",
      " 18  VL_Patrimonio                     9517 non-null   float64 \n",
      " 19  QT_Parcelas_Atraso                9517 non-null   int64   \n",
      " 20  QT_Dias_Atraso                    9517 non-null   float64 \n",
      " 21  Saldo_Devedor                     9517 non-null   float64 \n",
      " 22  Total_Pago                        9517 non-null   float64 \n",
      " 23  Possivel_Fraude                   9517 non-null   object  \n",
      " 24  Faixa_Etaria                      9517 non-null   category\n",
      " 25  Faixa_Salarial                    9517 non-null   category\n",
      " 26  Faixa_Dias_Atraso                 9517 non-null   category\n",
      " 27  Faixa_Prazo_Emprestimo            9517 non-null   category\n",
      " 28  Faixa_Prazo_Restante              9517 non-null   category\n",
      "dtypes: category(5), float64(8), int64(9), object(7)\n",
      "memory usage: 1.8+ MB\n"
     ]
    }
   ],
   "source": [
    "# Vou visualizar novamente como está o DataFrame original após a engenharia de atributos\n",
    "\n",
    "df_original.info(verbose=True)"
   ]
  },
  {
   "cell_type": "code",
   "execution_count": null,
   "metadata": {},
   "outputs": [],
   "source": []
  },
  {
   "cell_type": "code",
   "execution_count": null,
   "metadata": {},
   "outputs": [],
   "source": []
  },
  {
   "cell_type": "code",
   "execution_count": null,
   "metadata": {},
   "outputs": [],
   "source": []
  },
  {
   "cell_type": "code",
   "execution_count": null,
   "metadata": {},
   "outputs": [],
   "source": []
  },
  {
   "cell_type": "code",
   "execution_count": 184,
   "metadata": {},
   "outputs": [
    {
     "data": {
      "text/plain": [
       "Index(['Contrato', 'Idade', 'Sexo', 'Valor_Renda', 'UF_Cliente', 'Perc_Juros',\n",
       "       'Prazo_Emprestimo', 'Data_Contratacao', 'Prazo_Restante',\n",
       "       'VL_Emprestimo', 'VL_Emprestimo_ComJuros', 'QT_Total_Parcelas_Pagas',\n",
       "       'QT_Total_Parcelas_Pagas_EmDia', 'QT_Total_Parcelas_Pagas_EmAtraso',\n",
       "       'Qt_Renegociacao', 'Estado_Civil', 'Escolaridade', 'Possui_Patrimonio',\n",
       "       'VL_Patrimonio', 'QT_Parcelas_Atraso', 'QT_Dias_Atraso',\n",
       "       'Saldo_Devedor', 'Total_Pago', 'Possivel_Fraude', 'Faixa_Etaria',\n",
       "       'Faixa_Salarial', 'Faixa_Dias_Atraso', 'Faixa_Prazo_Emprestimo',\n",
       "       'Faixa_Prazo_Restante'],\n",
       "      dtype='object')"
      ]
     },
     "execution_count": 184,
     "metadata": {},
     "output_type": "execute_result"
    }
   ],
   "source": [
    "# Vou selecionar as colunas que irei utilizar e algumas que irei descartar\n",
    "\n",
    "df_original.columns"
   ]
  },
  {
   "cell_type": "code",
   "execution_count": 186,
   "metadata": {},
   "outputs": [],
   "source": [
    "# APÓS ANALISE INICIAL, ENTENDO QUE ALGUMAS VARIÁVEIS NÃO POSSUEM RELEVANCIA.\n",
    "\n",
    "#  Contrato --> Essa variável é a identificação de cada cliente\n",
    "#  Data_Contratacao, VL_Patrimonio, Possui_Patrimonio, Escolaridade, Idade --> Essas não irão ter relevancia no modelo\n",
    "#  Valor_Renda, Prazo_Emprestimo, QT_Dias_Atraso, Prazo_Restante --> Essas variáveis já transformamos em categoria\n",
    "\n",
    "\n",
    "# ChamareI o novo conjunto de dados de df_dados\n",
    "\n",
    "columns = ['Sexo', 'UF_Cliente', 'Perc_Juros', \n",
    "       'VL_Emprestimo', 'VL_Emprestimo_ComJuros', 'QT_Total_Parcelas_Pagas',\n",
    "       'QT_Total_Parcelas_Pagas_EmDia', 'QT_Total_Parcelas_Pagas_EmAtraso',\n",
    "       'Qt_Renegociacao', 'Estado_Civil', 'QT_Parcelas_Atraso', 'Saldo_Devedor', \n",
    "       'Total_Pago', 'Faixa_Prazo_Restante', 'Faixa_Salarial', 'Faixa_Prazo_Emprestimo', 'Faixa_Etaria', \n",
    "       'Faixa_Dias_Atraso', 'Possivel_Fraude']\n",
    "\n",
    "df_dados = pd.DataFrame(df_original, columns=columns)"
   ]
  },
  {
   "cell_type": "code",
   "execution_count": 188,
   "metadata": {},
   "outputs": [
    {
     "data": {
      "text/plain": [
       "(9517, 19)"
      ]
     },
     "execution_count": 188,
     "metadata": {},
     "output_type": "execute_result"
    }
   ],
   "source": [
    "df_dados.shape"
   ]
  },
  {
   "cell_type": "code",
   "execution_count": 190,
   "metadata": {},
   "outputs": [
    {
     "name": "stdout",
     "output_type": "stream",
     "text": [
      "<class 'pandas.core.frame.DataFrame'>\n",
      "RangeIndex: 9517 entries, 0 to 9516\n",
      "Data columns (total 19 columns):\n",
      " #   Column                            Non-Null Count  Dtype   \n",
      "---  ------                            --------------  -----   \n",
      " 0   Sexo                              9517 non-null   object  \n",
      " 1   UF_Cliente                        9517 non-null   object  \n",
      " 2   Perc_Juros                        9517 non-null   float64 \n",
      " 3   VL_Emprestimo                     9517 non-null   float64 \n",
      " 4   VL_Emprestimo_ComJuros            9517 non-null   float64 \n",
      " 5   QT_Total_Parcelas_Pagas           9517 non-null   int64   \n",
      " 6   QT_Total_Parcelas_Pagas_EmDia     9517 non-null   int64   \n",
      " 7   QT_Total_Parcelas_Pagas_EmAtraso  9517 non-null   int64   \n",
      " 8   Qt_Renegociacao                   9517 non-null   int64   \n",
      " 9   Estado_Civil                      9517 non-null   object  \n",
      " 10  QT_Parcelas_Atraso                9517 non-null   int64   \n",
      " 11  Saldo_Devedor                     9517 non-null   float64 \n",
      " 12  Total_Pago                        9517 non-null   float64 \n",
      " 13  Faixa_Prazo_Restante              9517 non-null   category\n",
      " 14  Faixa_Salarial                    9517 non-null   category\n",
      " 15  Faixa_Prazo_Emprestimo            9517 non-null   category\n",
      " 16  Faixa_Etaria                      9517 non-null   category\n",
      " 17  Faixa_Dias_Atraso                 9517 non-null   category\n",
      " 18  Possivel_Fraude                   9517 non-null   object  \n",
      "dtypes: category(5), float64(5), int64(5), object(4)\n",
      "memory usage: 1.1+ MB\n"
     ]
    }
   ],
   "source": [
    "df_dados.info(verbose = True)"
   ]
  },
  {
   "cell_type": "code",
   "execution_count": 192,
   "metadata": {},
   "outputs": [
    {
     "data": {
      "text/plain": [
       "Sexo                                0\n",
       "UF_Cliente                          0\n",
       "Perc_Juros                          0\n",
       "VL_Emprestimo                       0\n",
       "VL_Emprestimo_ComJuros              0\n",
       "QT_Total_Parcelas_Pagas             0\n",
       "QT_Total_Parcelas_Pagas_EmDia       0\n",
       "QT_Total_Parcelas_Pagas_EmAtraso    0\n",
       "Qt_Renegociacao                     0\n",
       "Estado_Civil                        0\n",
       "QT_Parcelas_Atraso                  0\n",
       "Saldo_Devedor                       0\n",
       "Total_Pago                          0\n",
       "Faixa_Prazo_Restante                0\n",
       "Faixa_Salarial                      0\n",
       "Faixa_Prazo_Emprestimo              0\n",
       "Faixa_Etaria                        0\n",
       "Faixa_Dias_Atraso                   0\n",
       "Possivel_Fraude                     0\n",
       "dtype: int64"
      ]
     },
     "execution_count": 192,
     "metadata": {},
     "output_type": "execute_result"
    }
   ],
   "source": [
    "# Agora vou ver novamente para constatar que realmente não há valores nulos\n",
    "df_dados.isnull().sum()"
   ]
  },
  {
   "cell_type": "markdown",
   "metadata": {},
   "source": [
    "# Analise Exploratória em Variáveis Categóricas\n",
    "<br>\n",
    "Nesta analise tenho 2 objetivos:<br>\n",
    "1 - Conhecer como a variável alvo (POSSIVEL_FRAUDE) está relacionada com as outras variáveis.<br>\n",
    "2 - Irei avaliar as variáveis categóricas para conhecimento dos dados e descartar variáveis que não fazem sentido."
   ]
  },
  {
   "cell_type": "markdown",
   "metadata": {},
   "source": [
    "\n"
   ]
  },
  {
   "cell_type": "code",
   "execution_count": 195,
   "metadata": {},
   "outputs": [],
   "source": [
    "# Apenas para ajustar o tamanho dos gráficos\n",
    "\n",
    "plt.rcParams[\"figure.figsize\"] = [10.00, 4.00]\n",
    "plt.rcParams[\"figure.autolayout\"] = True"
   ]
  },
  {
   "cell_type": "code",
   "execution_count": 201,
   "metadata": {},
   "outputs": [
    {
     "data": {
      "image/png": "[encoded data removed]",
      "text/plain": [
       "<Figure size 1000x400 with 1 Axes>"
      ]
     },
     "metadata": {},
     "output_type": "display_data"
    }
   ],
   "source": [
    "sns.countplot(data = df_dados, x = \"UF_Cliente\", hue = \"Possivel_Fraude\")\n",
    "plt.show()"
   ]
  },
  {
   "cell_type": "code",
   "execution_count": 203,
   "metadata": {},
   "outputs": [
    {
     "data": {
      "image/png": "[encoded data removed]",
      "text/plain": [
       "<Figure size 1000x400 with 1 Axes>"
      ]
     },
     "metadata": {},
     "output_type": "display_data"
    }
   ],
   "source": [
    "sns.countplot(data = df_dados, x = \"Sexo\", hue = \"Possivel_Fraude\")\n",
    "plt.show()"
   ]
  },
  {
   "cell_type": "code",
   "execution_count": 205,
   "metadata": {},
   "outputs": [
    {
     "data": {
      "image/png": "[encoded data removed]",
      "text/plain": [
       "<Figure size 1000x400 with 1 Axes>"
      ]
     },
     "metadata": {},
     "output_type": "display_data"
    }
   ],
   "source": [
    "sns.countplot(data = df_dados, x = \"Faixa_Etaria\", hue = \"Possivel_Fraude\")\n",
    "plt.show()"
   ]
  },
  {
   "cell_type": "code",
   "execution_count": 244,
   "metadata": {},
   "outputs": [
    {
     "data": {
      "image/png": "[encoded data removed]",
      "text/plain": [
       "<Figure size 800x400 with 1 Axes>"
      ]
     },
     "metadata": {},
     "output_type": "display_data"
    }
   ],
   "source": [
    "plt.figure(figsize=(8,4))\n",
    "sns.countplot(data = df_dados, x = \"Faixa_Salarial\", hue = \"Possivel_Fraude\")\n",
    "plt.show()"
   ]
  },
  {
   "cell_type": "code",
   "execution_count": 238,
   "metadata": {},
   "outputs": [
    {
     "data": {
      "image/png": "[encoded data removed]",
      "text/plain": [
       "<Figure size 500x400 with 1 Axes>"
      ]
     },
     "metadata": {},
     "output_type": "display_data"
    }
   ],
   "source": [
    "# Neste caso como há muitos casos de ESTADO CIVIL diferente de Casado(C) e Solteiro(S), irei fazer um tratamento mais adiante\n",
    "# para todos casos que não forem Casado e Solteiro, serão considerado como OUTROS. Dessa forma terei somente 3 categorias\n",
    "# e os dados ficarão balanceados sem discrepancias.\n",
    "\n",
    "plt.figure(figsize=(5,4))\n",
    "sns.countplot(data = df_dados, x = \"Estado_Civil\", hue = \"Possivel_Fraude\")\n",
    "plt.show()"
   ]
  },
  {
   "cell_type": "code",
   "execution_count": 250,
   "metadata": {},
   "outputs": [
    {
     "data": {
      "image/png": "[encoded data removed]",
      "text/plain": [
       "<Figure size 900x400 with 1 Axes>"
      ]
     },
     "metadata": {},
     "output_type": "display_data"
    }
   ],
   "source": [
    "# Podemos observar o volume de cotas que geraram prejuízo na arrecadação de taxa de administracao\n",
    "# Essa variável irei manter no modelo e avaliar mais adiante\n",
    "\n",
    "plt.figure(figsize=(9,4))\n",
    "sns.countplot(data = df_dados, x = \"Faixa_Dias_Atraso\", hue = \"Possivel_Fraude\")\n",
    "plt.show()"
   ]
  },
  {
   "cell_type": "code",
   "execution_count": 215,
   "metadata": {},
   "outputs": [
    {
     "data": {
      "image/png": "[encoded data removed]",
      "text/plain": [
       "<Figure size 1000x400 with 1 Axes>"
      ]
     },
     "metadata": {},
     "output_type": "display_data"
    }
   ],
   "source": [
    "sns.countplot(data = df_dados, x = \"Faixa_Prazo_Emprestimo\", hue = \"Possivel_Fraude\")\n",
    "plt.show()"
   ]
  },
  {
   "cell_type": "code",
   "execution_count": 217,
   "metadata": {},
   "outputs": [
    {
     "data": {
      "image/png": "[encoded data removed]",
      "text/plain": [
       "<Figure size 1000x400 with 1 Axes>"
      ]
     },
     "metadata": {},
     "output_type": "display_data"
    }
   ],
   "source": [
    "# Podemos observar que esta variável está muito desbalanceada, mas irei avaliar melhor mais adiante.\n",
    "\n",
    "sns.countplot(data = df_dados, x = \"Faixa_Prazo_Restante\", hue = \"Possivel_Fraude\")\n",
    "plt.show()"
   ]
  },
  {
   "cell_type": "code",
   "execution_count": 219,
   "metadata": {},
   "outputs": [
    {
     "data": {
      "text/html": [
       "<div>\n",
       "<style scoped>\n",
       "    .dataframe tbody tr th:only-of-type {\n",
       "        vertical-align: middle;\n",
       "    }\n",
       "\n",
       "    .dataframe tbody tr th {\n",
       "        vertical-align: top;\n",
       "    }\n",
       "\n",
       "    .dataframe thead th {\n",
       "        text-align: right;\n",
       "    }\n",
       "</style>\n",
       "<table border=\"1\" class=\"dataframe\">\n",
       "  <thead>\n",
       "    <tr style=\"text-align: right;\">\n",
       "      <th></th>\n",
       "      <th>Perc_Juros</th>\n",
       "      <th>VL_Emprestimo</th>\n",
       "      <th>VL_Emprestimo_ComJuros</th>\n",
       "      <th>QT_Total_Parcelas_Pagas</th>\n",
       "      <th>QT_Total_Parcelas_Pagas_EmDia</th>\n",
       "      <th>QT_Total_Parcelas_Pagas_EmAtraso</th>\n",
       "      <th>Qt_Renegociacao</th>\n",
       "      <th>QT_Parcelas_Atraso</th>\n",
       "      <th>Saldo_Devedor</th>\n",
       "      <th>Total_Pago</th>\n",
       "    </tr>\n",
       "  </thead>\n",
       "  <tbody>\n",
       "    <tr>\n",
       "      <th>count</th>\n",
       "      <td>9517.00</td>\n",
       "      <td>9517.00</td>\n",
       "      <td>9517.00</td>\n",
       "      <td>9517.00</td>\n",
       "      <td>9517.00</td>\n",
       "      <td>9517.00</td>\n",
       "      <td>9517.00</td>\n",
       "      <td>9517.00</td>\n",
       "      <td>9517.00</td>\n",
       "      <td>9517.00</td>\n",
       "    </tr>\n",
       "    <tr>\n",
       "      <th>mean</th>\n",
       "      <td>19.65</td>\n",
       "      <td>81881.89</td>\n",
       "      <td>94164.17</td>\n",
       "      <td>7.89</td>\n",
       "      <td>4.11</td>\n",
       "      <td>1.60</td>\n",
       "      <td>1.24</td>\n",
       "      <td>5.35</td>\n",
       "      <td>90560.27</td>\n",
       "      <td>8166.21</td>\n",
       "    </tr>\n",
       "    <tr>\n",
       "      <th>std</th>\n",
       "      <td>3.82</td>\n",
       "      <td>94138.06</td>\n",
       "      <td>108258.77</td>\n",
       "      <td>5.17</td>\n",
       "      <td>4.04</td>\n",
       "      <td>2.31</td>\n",
       "      <td>1.17</td>\n",
       "      <td>5.32</td>\n",
       "      <td>111050.54</td>\n",
       "      <td>16697.76</td>\n",
       "    </tr>\n",
       "    <tr>\n",
       "      <th>min</th>\n",
       "      <td>7.00</td>\n",
       "      <td>3500.00</td>\n",
       "      <td>4025.00</td>\n",
       "      <td>0.00</td>\n",
       "      <td>0.00</td>\n",
       "      <td>0.00</td>\n",
       "      <td>0.00</td>\n",
       "      <td>0.00</td>\n",
       "      <td>0.00</td>\n",
       "      <td>0.00</td>\n",
       "    </tr>\n",
       "    <tr>\n",
       "      <th>25%</th>\n",
       "      <td>18.00</td>\n",
       "      <td>20000.00</td>\n",
       "      <td>23000.00</td>\n",
       "      <td>2.00</td>\n",
       "      <td>1.00</td>\n",
       "      <td>0.00</td>\n",
       "      <td>0.00</td>\n",
       "      <td>0.00</td>\n",
       "      <td>18546.85</td>\n",
       "      <td>1202.04</td>\n",
       "    </tr>\n",
       "    <tr>\n",
       "      <th>50%</th>\n",
       "      <td>20.00</td>\n",
       "      <td>50000.00</td>\n",
       "      <td>57500.00</td>\n",
       "      <td>9.00</td>\n",
       "      <td>2.00</td>\n",
       "      <td>1.00</td>\n",
       "      <td>1.00</td>\n",
       "      <td>4.00</td>\n",
       "      <td>45375.30</td>\n",
       "      <td>3949.91</td>\n",
       "    </tr>\n",
       "    <tr>\n",
       "      <th>75%</th>\n",
       "      <td>22.00</td>\n",
       "      <td>100000.00</td>\n",
       "      <td>115000.00</td>\n",
       "      <td>13.00</td>\n",
       "      <td>6.00</td>\n",
       "      <td>2.00</td>\n",
       "      <td>2.00</td>\n",
       "      <td>11.00</td>\n",
       "      <td>119721.25</td>\n",
       "      <td>8302.01</td>\n",
       "    </tr>\n",
       "    <tr>\n",
       "      <th>max</th>\n",
       "      <td>28.00</td>\n",
       "      <td>500000.00</td>\n",
       "      <td>575000.00</td>\n",
       "      <td>35.00</td>\n",
       "      <td>35.00</td>\n",
       "      <td>14.00</td>\n",
       "      <td>9.00</td>\n",
       "      <td>15.00</td>\n",
       "      <td>625000.00</td>\n",
       "      <td>396385.00</td>\n",
       "    </tr>\n",
       "  </tbody>\n",
       "</table>\n",
       "</div>"
      ],
      "text/plain": [
       "       Perc_Juros  VL_Emprestimo  VL_Emprestimo_ComJuros  \\\n",
       "count     9517.00        9517.00                 9517.00   \n",
       "mean        19.65       81881.89                94164.17   \n",
       "std          3.82       94138.06               108258.77   \n",
       "min          7.00        3500.00                 4025.00   \n",
       "25%         18.00       20000.00                23000.00   \n",
       "50%         20.00       50000.00                57500.00   \n",
       "75%         22.00      100000.00               115000.00   \n",
       "max         28.00      500000.00               575000.00   \n",
       "\n",
       "       QT_Total_Parcelas_Pagas  QT_Total_Parcelas_Pagas_EmDia  \\\n",
       "count                  9517.00                        9517.00   \n",
       "mean                      7.89                           4.11   \n",
       "std                       5.17                           4.04   \n",
       "min                       0.00                           0.00   \n",
       "25%                       2.00                           1.00   \n",
       "50%                       9.00                           2.00   \n",
       "75%                      13.00                           6.00   \n",
       "max                      35.00                          35.00   \n",
       "\n",
       "       QT_Total_Parcelas_Pagas_EmAtraso  Qt_Renegociacao  QT_Parcelas_Atraso  \\\n",
       "count                           9517.00          9517.00             9517.00   \n",
       "mean                               1.60             1.24                5.35   \n",
       "std                                2.31             1.17                5.32   \n",
       "min                                0.00             0.00                0.00   \n",
       "25%                                0.00             0.00                0.00   \n",
       "50%                                1.00             1.00                4.00   \n",
       "75%                                2.00             2.00               11.00   \n",
       "max                               14.00             9.00               15.00   \n",
       "\n",
       "       Saldo_Devedor  Total_Pago  \n",
       "count        9517.00     9517.00  \n",
       "mean        90560.27     8166.21  \n",
       "std        111050.54    16697.76  \n",
       "min             0.00        0.00  \n",
       "25%         18546.85     1202.04  \n",
       "50%         45375.30     3949.91  \n",
       "75%        119721.25     8302.01  \n",
       "max        625000.00   396385.00  "
      ]
     },
     "execution_count": 219,
     "metadata": {},
     "output_type": "execute_result"
    }
   ],
   "source": [
    "df_dados.describe()"
   ]
  },
  {
   "cell_type": "code",
   "execution_count": 221,
   "metadata": {},
   "outputs": [
    {
     "name": "stdout",
     "output_type": "stream",
     "text": [
      "Sexo : 2\n",
      "UF_Cliente : 27\n",
      "Perc_Juros : 21\n",
      "VL_Emprestimo : 61\n",
      "VL_Emprestimo_ComJuros : 61\n",
      "QT_Total_Parcelas_Pagas : 24\n",
      "QT_Total_Parcelas_Pagas_EmDia : 24\n",
      "QT_Total_Parcelas_Pagas_EmAtraso : 15\n",
      "Qt_Renegociacao : 10\n",
      "Estado_Civil : 5\n",
      "QT_Parcelas_Atraso : 16\n",
      "Saldo_Devedor : 7654\n",
      "Total_Pago : 7022\n",
      "Faixa_Prazo_Restante : 4\n",
      "Faixa_Salarial : 8\n",
      "Faixa_Prazo_Emprestimo : 4\n",
      "Faixa_Etaria : 6\n",
      "Faixa_Dias_Atraso : 7\n",
      "Possivel_Fraude : 2\n"
     ]
    }
   ],
   "source": [
    "# Total de valores únicos de cada variável do novo dataset\n",
    "\n",
    "valores_unicos = []\n",
    "for i in df_dados.columns[0:19].tolist():\n",
    "    print(i, ':', len(df_dados[i].astype(str).value_counts()))\n",
    "    valores_unicos.append(len(df_dados[i].astype(str).value_counts()))"
   ]
  },
  {
   "cell_type": "markdown",
   "metadata": {},
   "source": [
    "# Analise Exploratória - Variáveis Numéricas\n",
    "<br>\n",
    "Nesta analise tenho diversos objetivos:<br>\n",
    "1 - Conhecer as variáveis.<br>\n",
    "2 - Realizar uma analise estatistica nas variáveis para futuros tratamentos. Irei avaliar média, mediana, moda, desvio padrão\n",
    "correlações, outliers, distribuição dos dados, etc.  "
   ]
  },
  {
   "cell_type": "code",
   "execution_count": 228,
   "metadata": {},
   "outputs": [],
   "source": [
    "# Carregar variaveis para plot\n",
    "# Vou criar uma lista chamada de VARIAVEIS_NUMERICAS, e vou jogar dentro dela TODAS as variáveis que são numéricas.\n",
    "\n",
    "variaveis_numericas = []\n",
    "for i in df_dados.columns[0:19].tolist():\n",
    "        if df_dados.dtypes[i] == 'int64' or df_dados.dtypes[i] == 'float64':                        \n",
    "            variaveis_numericas.append(i)    "
   ]
  },
  {
   "cell_type": "code",
   "execution_count": 230,
   "metadata": {},
   "outputs": [
    {
     "data": {
      "text/plain": [
       "['Perc_Juros',\n",
       " 'VL_Emprestimo',\n",
       " 'VL_Emprestimo_ComJuros',\n",
       " 'QT_Total_Parcelas_Pagas',\n",
       " 'QT_Total_Parcelas_Pagas_EmDia',\n",
       " 'QT_Total_Parcelas_Pagas_EmAtraso',\n",
       " 'Qt_Renegociacao',\n",
       " 'QT_Parcelas_Atraso',\n",
       " 'Saldo_Devedor',\n",
       " 'Total_Pago']"
      ]
     },
     "execution_count": 230,
     "metadata": {},
     "output_type": "execute_result"
    }
   ],
   "source": [
    "#Visualizando as variáveis numéricas\n",
    "\n",
    "variaveis_numericas"
   ]
  },
  {
   "cell_type": "code",
   "execution_count": 232,
   "metadata": {},
   "outputs": [
    {
     "data": {
      "text/plain": [
       "10"
      ]
     },
     "execution_count": 232,
     "metadata": {},
     "output_type": "execute_result"
    }
   ],
   "source": [
    "#Quantidade de variaveis\n",
    "\n",
    "len(variaveis_numericas)"
   ]
  },
  {
   "cell_type": "code",
   "execution_count": 266,
   "metadata": {},
   "outputs": [
    {
     "data": {
      "image/png": "[encoded data removed]",
      "text/plain": [
       "<Figure size 1000x2000 with 10 Axes>"
      ]
     },
     "metadata": {},
     "output_type": "display_data"
    }
   ],
   "source": [
    "# Podemos observar nos boxplots abaixo que as variáveis númericas apresentam uma grande quantidade de \"possíveis\" outliers\n",
    "# Precisamos avaliar cada uma dessas variaveis dentro do contexto dos dados para saber se realmente iremos trata-las como outlier\n",
    "\n",
    "plt.rcParams[\"figure.figsize\"] = [10.00, 20.00] # tamanho do gráfico\n",
    "plt.rcParams[\"figure.autolayout\"] = True # tamanho do gráfico\n",
    "\n",
    "f, axes = plt.subplots(5, 2) #5 linhas e 2 colunas\n",
    "\n",
    "linha = 0\n",
    "coluna = 0\n",
    "for i in variaveis_numericas:\n",
    "    sns.boxplot(data = df_dados, y=i, ax=axes[linha][coluna])\n",
    "    coluna += 1\n",
    "    if coluna == 2:\n",
    "        linha += 1\n",
    "        coluna = 0            \n",
    "\n",
    "plt.show()"
   ]
  },
  {
   "cell_type": "code",
   "execution_count": 268,
   "metadata": {},
   "outputs": [],
   "source": [
    "# carregar variaveis categoricas para OneHotEncoding\n",
    "# Vamos colocar o slice somente até a coluna de indice 18 para não pegar a variável target.\n",
    "\n",
    "variaveis_categoricas = []\n",
    "for i in df_dados.columns[0:18].tolist():\n",
    "        if df_dados.dtypes[i] == 'object' or df_dados.dtypes[i] == 'category':                        \n",
    "            variaveis_categoricas.append(i)    "
   ]
  },
  {
   "cell_type": "code",
   "execution_count": 270,
   "metadata": {},
   "outputs": [
    {
     "data": {
      "text/plain": [
       "['Sexo',\n",
       " 'UF_Cliente',\n",
       " 'Estado_Civil',\n",
       " 'Faixa_Prazo_Restante',\n",
       " 'Faixa_Salarial',\n",
       " 'Faixa_Prazo_Emprestimo',\n",
       " 'Faixa_Etaria',\n",
       " 'Faixa_Dias_Atraso']"
      ]
     },
     "execution_count": 270,
     "metadata": {},
     "output_type": "execute_result"
    }
   ],
   "source": [
    "# Visualizando as variaveis categoricas\n",
    "\n",
    "variaveis_categoricas"
   ]
  },
  {
   "cell_type": "code",
   "execution_count": 272,
   "metadata": {},
   "outputs": [
    {
     "data": {
      "text/html": [
       "<div>\n",
       "<style scoped>\n",
       "    .dataframe tbody tr th:only-of-type {\n",
       "        vertical-align: middle;\n",
       "    }\n",
       "\n",
       "    .dataframe tbody tr th {\n",
       "        vertical-align: top;\n",
       "    }\n",
       "\n",
       "    .dataframe thead th {\n",
       "        text-align: right;\n",
       "    }\n",
       "</style>\n",
       "<table border=\"1\" class=\"dataframe\">\n",
       "  <thead>\n",
       "    <tr style=\"text-align: right;\">\n",
       "      <th></th>\n",
       "      <th>Sexo</th>\n",
       "      <th>UF_Cliente</th>\n",
       "      <th>Perc_Juros</th>\n",
       "      <th>VL_Emprestimo</th>\n",
       "      <th>VL_Emprestimo_ComJuros</th>\n",
       "      <th>QT_Total_Parcelas_Pagas</th>\n",
       "      <th>QT_Total_Parcelas_Pagas_EmDia</th>\n",
       "      <th>QT_Total_Parcelas_Pagas_EmAtraso</th>\n",
       "      <th>Qt_Renegociacao</th>\n",
       "      <th>Estado_Civil</th>\n",
       "      <th>QT_Parcelas_Atraso</th>\n",
       "      <th>Saldo_Devedor</th>\n",
       "      <th>Total_Pago</th>\n",
       "      <th>Faixa_Prazo_Restante</th>\n",
       "      <th>Faixa_Salarial</th>\n",
       "      <th>Faixa_Prazo_Emprestimo</th>\n",
       "      <th>Faixa_Etaria</th>\n",
       "      <th>Faixa_Dias_Atraso</th>\n",
       "      <th>Possivel_Fraude</th>\n",
       "    </tr>\n",
       "  </thead>\n",
       "  <tbody>\n",
       "    <tr>\n",
       "      <th>0</th>\n",
       "      <td>M</td>\n",
       "      <td>SP</td>\n",
       "      <td>23.00</td>\n",
       "      <td>80000.00</td>\n",
       "      <td>92000.00</td>\n",
       "      <td>15</td>\n",
       "      <td>9</td>\n",
       "      <td>1</td>\n",
       "      <td>0</td>\n",
       "      <td>DIVORCIADO</td>\n",
       "      <td>0</td>\n",
       "      <td>91759.97</td>\n",
       "      <td>7717.08</td>\n",
       "      <td>De 121 até 200 Meses</td>\n",
       "      <td>De 5k até 10k</td>\n",
       "      <td>De 121 até 200 Meses</td>\n",
       "      <td>De 41 até 50 Anos</td>\n",
       "      <td>De 241 até 360</td>\n",
       "      <td>Nao</td>\n",
       "    </tr>\n",
       "    <tr>\n",
       "      <th>1</th>\n",
       "      <td>M</td>\n",
       "      <td>MG</td>\n",
       "      <td>20.00</td>\n",
       "      <td>50000.00</td>\n",
       "      <td>57500.00</td>\n",
       "      <td>10</td>\n",
       "      <td>10</td>\n",
       "      <td>0</td>\n",
       "      <td>0</td>\n",
       "      <td>SOLTEIRO(A)</td>\n",
       "      <td>4</td>\n",
       "      <td>53981.18</td>\n",
       "      <td>6756.59</td>\n",
       "      <td>De 61 até 120 Meses</td>\n",
       "      <td>De 1k até 2k</td>\n",
       "      <td>De 61 até 120 Meses</td>\n",
       "      <td>De 22 até 30 Anos</td>\n",
       "      <td>De 91 até 180</td>\n",
       "      <td>Nao</td>\n",
       "    </tr>\n",
       "    <tr>\n",
       "      <th>2</th>\n",
       "      <td>M</td>\n",
       "      <td>BA</td>\n",
       "      <td>18.00</td>\n",
       "      <td>100000.00</td>\n",
       "      <td>115000.00</td>\n",
       "      <td>15</td>\n",
       "      <td>5</td>\n",
       "      <td>1</td>\n",
       "      <td>0</td>\n",
       "      <td>CASADO (A)</td>\n",
       "      <td>0</td>\n",
       "      <td>101150.02</td>\n",
       "      <td>17929.06</td>\n",
       "      <td>De 61 até 120 Meses</td>\n",
       "      <td>De 3k até 5k</td>\n",
       "      <td>De 61 até 120 Meses</td>\n",
       "      <td>De 31 até 40 Anos</td>\n",
       "      <td>De 241 até 360</td>\n",
       "      <td>Nao</td>\n",
       "    </tr>\n",
       "    <tr>\n",
       "      <th>3</th>\n",
       "      <td>M</td>\n",
       "      <td>MG</td>\n",
       "      <td>20.00</td>\n",
       "      <td>30000.00</td>\n",
       "      <td>34500.00</td>\n",
       "      <td>1</td>\n",
       "      <td>1</td>\n",
       "      <td>0</td>\n",
       "      <td>0</td>\n",
       "      <td>SOLTEIRO(A)</td>\n",
       "      <td>13</td>\n",
       "      <td>36208.10</td>\n",
       "      <td>369.10</td>\n",
       "      <td>De 61 até 120 Meses</td>\n",
       "      <td>De 1k até 2k</td>\n",
       "      <td>De 61 até 120 Meses</td>\n",
       "      <td>Até 21 Anos</td>\n",
       "      <td>Acima de 360</td>\n",
       "      <td>Sim</td>\n",
       "    </tr>\n",
       "    <tr>\n",
       "      <th>4</th>\n",
       "      <td>M</td>\n",
       "      <td>MG</td>\n",
       "      <td>20.00</td>\n",
       "      <td>60000.00</td>\n",
       "      <td>69000.00</td>\n",
       "      <td>16</td>\n",
       "      <td>16</td>\n",
       "      <td>0</td>\n",
       "      <td>0</td>\n",
       "      <td>CASADO (A)</td>\n",
       "      <td>0</td>\n",
       "      <td>60984.00</td>\n",
       "      <td>11845.24</td>\n",
       "      <td>De 61 até 120 Meses</td>\n",
       "      <td>De 2k até 3k</td>\n",
       "      <td>De 61 até 120 Meses</td>\n",
       "      <td>De 51 até 60</td>\n",
       "      <td>De 241 até 360</td>\n",
       "      <td>Nao</td>\n",
       "    </tr>\n",
       "  </tbody>\n",
       "</table>\n",
       "</div>"
      ],
      "text/plain": [
       "  Sexo UF_Cliente  Perc_Juros  VL_Emprestimo  VL_Emprestimo_ComJuros  \\\n",
       "0    M         SP       23.00       80000.00                92000.00   \n",
       "1    M         MG       20.00       50000.00                57500.00   \n",
       "2    M         BA       18.00      100000.00               115000.00   \n",
       "3    M         MG       20.00       30000.00                34500.00   \n",
       "4    M         MG       20.00       60000.00                69000.00   \n",
       "\n",
       "   QT_Total_Parcelas_Pagas  QT_Total_Parcelas_Pagas_EmDia  \\\n",
       "0                       15                              9   \n",
       "1                       10                             10   \n",
       "2                       15                              5   \n",
       "3                        1                              1   \n",
       "4                       16                             16   \n",
       "\n",
       "   QT_Total_Parcelas_Pagas_EmAtraso  Qt_Renegociacao Estado_Civil  \\\n",
       "0                                 1                0   DIVORCIADO   \n",
       "1                                 0                0  SOLTEIRO(A)   \n",
       "2                                 1                0   CASADO (A)   \n",
       "3                                 0                0  SOLTEIRO(A)   \n",
       "4                                 0                0   CASADO (A)   \n",
       "\n",
       "   QT_Parcelas_Atraso  Saldo_Devedor  Total_Pago  Faixa_Prazo_Restante  \\\n",
       "0                   0       91759.97     7717.08  De 121 até 200 Meses   \n",
       "1                   4       53981.18     6756.59   De 61 até 120 Meses   \n",
       "2                   0      101150.02    17929.06   De 61 até 120 Meses   \n",
       "3                  13       36208.10      369.10   De 61 até 120 Meses   \n",
       "4                   0       60984.00    11845.24   De 61 até 120 Meses   \n",
       "\n",
       "  Faixa_Salarial Faixa_Prazo_Emprestimo       Faixa_Etaria Faixa_Dias_Atraso  \\\n",
       "0  De 5k até 10k   De 121 até 200 Meses  De 41 até 50 Anos    De 241 até 360   \n",
       "1   De 1k até 2k    De 61 até 120 Meses  De 22 até 30 Anos     De 91 até 180   \n",
       "2   De 3k até 5k    De 61 até 120 Meses  De 31 até 40 Anos    De 241 até 360   \n",
       "3   De 1k até 2k    De 61 até 120 Meses        Até 21 Anos      Acima de 360   \n",
       "4   De 2k até 3k    De 61 até 120 Meses       De 51 até 60    De 241 até 360   \n",
       "\n",
       "  Possivel_Fraude  \n",
       "0             Nao  \n",
       "1             Nao  \n",
       "2             Nao  \n",
       "3             Sim  \n",
       "4             Nao  "
      ]
     },
     "execution_count": 272,
     "metadata": {},
     "output_type": "execute_result"
    }
   ],
   "source": [
    "df_dados.head()"
   ]
  },
  {
   "cell_type": "code",
   "execution_count": 274,
   "metadata": {},
   "outputs": [],
   "source": [
    "# Cria o encoder e aplica OneHotEncoder\n",
    "\n",
    "lb = LabelEncoder()\n",
    "\n",
    "for var in variaveis_categoricas:\n",
    "    df_dados[var] = lb.fit_transform(df_dados[var])"
   ]
  },
  {
   "cell_type": "code",
   "execution_count": 276,
   "metadata": {},
   "outputs": [
    {
     "data": {
      "text/plain": [
       "Sexo                                0\n",
       "UF_Cliente                          0\n",
       "Perc_Juros                          0\n",
       "VL_Emprestimo                       0\n",
       "VL_Emprestimo_ComJuros              0\n",
       "QT_Total_Parcelas_Pagas             0\n",
       "QT_Total_Parcelas_Pagas_EmDia       0\n",
       "QT_Total_Parcelas_Pagas_EmAtraso    0\n",
       "Qt_Renegociacao                     0\n",
       "Estado_Civil                        0\n",
       "QT_Parcelas_Atraso                  0\n",
       "Saldo_Devedor                       0\n",
       "Total_Pago                          0\n",
       "Faixa_Prazo_Restante                0\n",
       "Faixa_Salarial                      0\n",
       "Faixa_Prazo_Emprestimo              0\n",
       "Faixa_Etaria                        0\n",
       "Faixa_Dias_Atraso                   0\n",
       "Possivel_Fraude                     0\n",
       "dtype: int64"
      ]
     },
     "execution_count": 276,
     "metadata": {},
     "output_type": "execute_result"
    }
   ],
   "source": [
    "# Verifica novamente para confirmar se após transformação surgiu algum valor nulo\n",
    "\n",
    "df_dados.isnull().sum()"
   ]
  },
  {
   "cell_type": "code",
   "execution_count": 278,
   "metadata": {},
   "outputs": [
    {
     "data": {
      "text/html": [
       "<div>\n",
       "<style scoped>\n",
       "    .dataframe tbody tr th:only-of-type {\n",
       "        vertical-align: middle;\n",
       "    }\n",
       "\n",
       "    .dataframe tbody tr th {\n",
       "        vertical-align: top;\n",
       "    }\n",
       "\n",
       "    .dataframe thead th {\n",
       "        text-align: right;\n",
       "    }\n",
       "</style>\n",
       "<table border=\"1\" class=\"dataframe\">\n",
       "  <thead>\n",
       "    <tr style=\"text-align: right;\">\n",
       "      <th></th>\n",
       "      <th>Sexo</th>\n",
       "      <th>UF_Cliente</th>\n",
       "      <th>Perc_Juros</th>\n",
       "      <th>VL_Emprestimo</th>\n",
       "      <th>VL_Emprestimo_ComJuros</th>\n",
       "      <th>QT_Total_Parcelas_Pagas</th>\n",
       "      <th>QT_Total_Parcelas_Pagas_EmDia</th>\n",
       "      <th>QT_Total_Parcelas_Pagas_EmAtraso</th>\n",
       "      <th>Qt_Renegociacao</th>\n",
       "      <th>Estado_Civil</th>\n",
       "      <th>QT_Parcelas_Atraso</th>\n",
       "      <th>Saldo_Devedor</th>\n",
       "      <th>Total_Pago</th>\n",
       "      <th>Faixa_Prazo_Restante</th>\n",
       "      <th>Faixa_Salarial</th>\n",
       "      <th>Faixa_Prazo_Emprestimo</th>\n",
       "      <th>Faixa_Etaria</th>\n",
       "      <th>Faixa_Dias_Atraso</th>\n",
       "      <th>Possivel_Fraude</th>\n",
       "    </tr>\n",
       "  </thead>\n",
       "  <tbody>\n",
       "    <tr>\n",
       "      <th>0</th>\n",
       "      <td>1</td>\n",
       "      <td>25</td>\n",
       "      <td>23.00</td>\n",
       "      <td>80000.00</td>\n",
       "      <td>92000.00</td>\n",
       "      <td>15</td>\n",
       "      <td>9</td>\n",
       "      <td>1</td>\n",
       "      <td>0</td>\n",
       "      <td>1</td>\n",
       "      <td>0</td>\n",
       "      <td>91759.97</td>\n",
       "      <td>7717.08</td>\n",
       "      <td>2</td>\n",
       "      <td>7</td>\n",
       "      <td>2</td>\n",
       "      <td>4</td>\n",
       "      <td>3</td>\n",
       "      <td>Nao</td>\n",
       "    </tr>\n",
       "    <tr>\n",
       "      <th>1</th>\n",
       "      <td>1</td>\n",
       "      <td>10</td>\n",
       "      <td>20.00</td>\n",
       "      <td>50000.00</td>\n",
       "      <td>57500.00</td>\n",
       "      <td>10</td>\n",
       "      <td>10</td>\n",
       "      <td>0</td>\n",
       "      <td>0</td>\n",
       "      <td>3</td>\n",
       "      <td>4</td>\n",
       "      <td>53981.18</td>\n",
       "      <td>6756.59</td>\n",
       "      <td>3</td>\n",
       "      <td>3</td>\n",
       "      <td>3</td>\n",
       "      <td>2</td>\n",
       "      <td>6</td>\n",
       "      <td>Nao</td>\n",
       "    </tr>\n",
       "    <tr>\n",
       "      <th>2</th>\n",
       "      <td>1</td>\n",
       "      <td>4</td>\n",
       "      <td>18.00</td>\n",
       "      <td>100000.00</td>\n",
       "      <td>115000.00</td>\n",
       "      <td>15</td>\n",
       "      <td>5</td>\n",
       "      <td>1</td>\n",
       "      <td>0</td>\n",
       "      <td>0</td>\n",
       "      <td>0</td>\n",
       "      <td>101150.02</td>\n",
       "      <td>17929.06</td>\n",
       "      <td>3</td>\n",
       "      <td>6</td>\n",
       "      <td>3</td>\n",
       "      <td>3</td>\n",
       "      <td>3</td>\n",
       "      <td>Nao</td>\n",
       "    </tr>\n",
       "    <tr>\n",
       "      <th>3</th>\n",
       "      <td>1</td>\n",
       "      <td>10</td>\n",
       "      <td>20.00</td>\n",
       "      <td>30000.00</td>\n",
       "      <td>34500.00</td>\n",
       "      <td>1</td>\n",
       "      <td>1</td>\n",
       "      <td>0</td>\n",
       "      <td>0</td>\n",
       "      <td>3</td>\n",
       "      <td>13</td>\n",
       "      <td>36208.10</td>\n",
       "      <td>369.10</td>\n",
       "      <td>3</td>\n",
       "      <td>3</td>\n",
       "      <td>3</td>\n",
       "      <td>1</td>\n",
       "      <td>0</td>\n",
       "      <td>Sim</td>\n",
       "    </tr>\n",
       "    <tr>\n",
       "      <th>4</th>\n",
       "      <td>1</td>\n",
       "      <td>10</td>\n",
       "      <td>20.00</td>\n",
       "      <td>60000.00</td>\n",
       "      <td>69000.00</td>\n",
       "      <td>16</td>\n",
       "      <td>16</td>\n",
       "      <td>0</td>\n",
       "      <td>0</td>\n",
       "      <td>0</td>\n",
       "      <td>0</td>\n",
       "      <td>60984.00</td>\n",
       "      <td>11845.24</td>\n",
       "      <td>3</td>\n",
       "      <td>5</td>\n",
       "      <td>3</td>\n",
       "      <td>5</td>\n",
       "      <td>3</td>\n",
       "      <td>Nao</td>\n",
       "    </tr>\n",
       "  </tbody>\n",
       "</table>\n",
       "</div>"
      ],
      "text/plain": [
       "   Sexo  UF_Cliente  Perc_Juros  VL_Emprestimo  VL_Emprestimo_ComJuros  \\\n",
       "0     1          25       23.00       80000.00                92000.00   \n",
       "1     1          10       20.00       50000.00                57500.00   \n",
       "2     1           4       18.00      100000.00               115000.00   \n",
       "3     1          10       20.00       30000.00                34500.00   \n",
       "4     1          10       20.00       60000.00                69000.00   \n",
       "\n",
       "   QT_Total_Parcelas_Pagas  QT_Total_Parcelas_Pagas_EmDia  \\\n",
       "0                       15                              9   \n",
       "1                       10                             10   \n",
       "2                       15                              5   \n",
       "3                        1                              1   \n",
       "4                       16                             16   \n",
       "\n",
       "   QT_Total_Parcelas_Pagas_EmAtraso  Qt_Renegociacao  Estado_Civil  \\\n",
       "0                                 1                0             1   \n",
       "1                                 0                0             3   \n",
       "2                                 1                0             0   \n",
       "3                                 0                0             3   \n",
       "4                                 0                0             0   \n",
       "\n",
       "   QT_Parcelas_Atraso  Saldo_Devedor  Total_Pago  Faixa_Prazo_Restante  \\\n",
       "0                   0       91759.97     7717.08                     2   \n",
       "1                   4       53981.18     6756.59                     3   \n",
       "2                   0      101150.02    17929.06                     3   \n",
       "3                  13       36208.10      369.10                     3   \n",
       "4                   0       60984.00    11845.24                     3   \n",
       "\n",
       "   Faixa_Salarial  Faixa_Prazo_Emprestimo  Faixa_Etaria  Faixa_Dias_Atraso  \\\n",
       "0               7                       2             4                  3   \n",
       "1               3                       3             2                  6   \n",
       "2               6                       3             3                  3   \n",
       "3               3                       3             1                  0   \n",
       "4               5                       3             5                  3   \n",
       "\n",
       "  Possivel_Fraude  \n",
       "0             Nao  \n",
       "1             Nao  \n",
       "2             Nao  \n",
       "3             Sim  \n",
       "4             Nao  "
      ]
     },
     "execution_count": 278,
     "metadata": {},
     "output_type": "execute_result"
    }
   ],
   "source": [
    "df_dados.head()"
   ]
  },
  {
   "cell_type": "code",
   "execution_count": 280,
   "metadata": {},
   "outputs": [
    {
     "name": "stdout",
     "output_type": "stream",
     "text": [
      "<class 'pandas.core.frame.DataFrame'>\n",
      "RangeIndex: 9517 entries, 0 to 9516\n",
      "Data columns (total 19 columns):\n",
      " #   Column                            Non-Null Count  Dtype  \n",
      "---  ------                            --------------  -----  \n",
      " 0   Sexo                              9517 non-null   int32  \n",
      " 1   UF_Cliente                        9517 non-null   int32  \n",
      " 2   Perc_Juros                        9517 non-null   float64\n",
      " 3   VL_Emprestimo                     9517 non-null   float64\n",
      " 4   VL_Emprestimo_ComJuros            9517 non-null   float64\n",
      " 5   QT_Total_Parcelas_Pagas           9517 non-null   int64  \n",
      " 6   QT_Total_Parcelas_Pagas_EmDia     9517 non-null   int64  \n",
      " 7   QT_Total_Parcelas_Pagas_EmAtraso  9517 non-null   int64  \n",
      " 8   Qt_Renegociacao                   9517 non-null   int64  \n",
      " 9   Estado_Civil                      9517 non-null   int32  \n",
      " 10  QT_Parcelas_Atraso                9517 non-null   int64  \n",
      " 11  Saldo_Devedor                     9517 non-null   float64\n",
      " 12  Total_Pago                        9517 non-null   float64\n",
      " 13  Faixa_Prazo_Restante              9517 non-null   int32  \n",
      " 14  Faixa_Salarial                    9517 non-null   int32  \n",
      " 15  Faixa_Prazo_Emprestimo            9517 non-null   int32  \n",
      " 16  Faixa_Etaria                      9517 non-null   int32  \n",
      " 17  Faixa_Dias_Atraso                 9517 non-null   int32  \n",
      " 18  Possivel_Fraude                   9517 non-null   object \n",
      "dtypes: float64(5), int32(8), int64(5), object(1)\n",
      "memory usage: 1.1+ MB\n"
     ]
    }
   ],
   "source": [
    "# Visualizando os tipos das variaveis\n",
    "\n",
    "df_dados.info()"
   ]
  },
  {
   "cell_type": "code",
   "execution_count": 282,
   "metadata": {},
   "outputs": [
    {
     "data": {
      "text/plain": [
       "Possivel_Fraude\n",
       "Nao    5035\n",
       "Sim    4482\n",
       "Name: count, dtype: int64"
      ]
     },
     "execution_count": 282,
     "metadata": {},
     "output_type": "execute_result"
    }
   ],
   "source": [
    "# Visualiznado a quantidade da variavel target para balanceamento\n",
    "\n",
    "variavel_target = df_dados.Possivel_Fraude.value_counts()\n",
    "variavel_target"
   ]
  },
  {
   "cell_type": "code",
   "execution_count": 284,
   "metadata": {},
   "outputs": [],
   "source": [
    "# Separar variaveis preditoras e target\n",
    "\n",
    "PREDITORAS = df_dados.iloc[:, 0:18]  \n",
    "TARGET = df_dados.iloc[:, 18] "
   ]
  },
  {
   "cell_type": "code",
   "execution_count": 286,
   "metadata": {},
   "outputs": [
    {
     "data": {
      "text/html": [
       "<div>\n",
       "<style scoped>\n",
       "    .dataframe tbody tr th:only-of-type {\n",
       "        vertical-align: middle;\n",
       "    }\n",
       "\n",
       "    .dataframe tbody tr th {\n",
       "        vertical-align: top;\n",
       "    }\n",
       "\n",
       "    .dataframe thead th {\n",
       "        text-align: right;\n",
       "    }\n",
       "</style>\n",
       "<table border=\"1\" class=\"dataframe\">\n",
       "  <thead>\n",
       "    <tr style=\"text-align: right;\">\n",
       "      <th></th>\n",
       "      <th>Sexo</th>\n",
       "      <th>UF_Cliente</th>\n",
       "      <th>Perc_Juros</th>\n",
       "      <th>VL_Emprestimo</th>\n",
       "      <th>VL_Emprestimo_ComJuros</th>\n",
       "      <th>QT_Total_Parcelas_Pagas</th>\n",
       "      <th>QT_Total_Parcelas_Pagas_EmDia</th>\n",
       "      <th>QT_Total_Parcelas_Pagas_EmAtraso</th>\n",
       "      <th>Qt_Renegociacao</th>\n",
       "      <th>Estado_Civil</th>\n",
       "      <th>QT_Parcelas_Atraso</th>\n",
       "      <th>Saldo_Devedor</th>\n",
       "      <th>Total_Pago</th>\n",
       "      <th>Faixa_Prazo_Restante</th>\n",
       "      <th>Faixa_Salarial</th>\n",
       "      <th>Faixa_Prazo_Emprestimo</th>\n",
       "      <th>Faixa_Etaria</th>\n",
       "      <th>Faixa_Dias_Atraso</th>\n",
       "    </tr>\n",
       "  </thead>\n",
       "  <tbody>\n",
       "    <tr>\n",
       "      <th>0</th>\n",
       "      <td>1</td>\n",
       "      <td>25</td>\n",
       "      <td>23.00</td>\n",
       "      <td>80000.00</td>\n",
       "      <td>92000.00</td>\n",
       "      <td>15</td>\n",
       "      <td>9</td>\n",
       "      <td>1</td>\n",
       "      <td>0</td>\n",
       "      <td>1</td>\n",
       "      <td>0</td>\n",
       "      <td>91759.97</td>\n",
       "      <td>7717.08</td>\n",
       "      <td>2</td>\n",
       "      <td>7</td>\n",
       "      <td>2</td>\n",
       "      <td>4</td>\n",
       "      <td>3</td>\n",
       "    </tr>\n",
       "    <tr>\n",
       "      <th>1</th>\n",
       "      <td>1</td>\n",
       "      <td>10</td>\n",
       "      <td>20.00</td>\n",
       "      <td>50000.00</td>\n",
       "      <td>57500.00</td>\n",
       "      <td>10</td>\n",
       "      <td>10</td>\n",
       "      <td>0</td>\n",
       "      <td>0</td>\n",
       "      <td>3</td>\n",
       "      <td>4</td>\n",
       "      <td>53981.18</td>\n",
       "      <td>6756.59</td>\n",
       "      <td>3</td>\n",
       "      <td>3</td>\n",
       "      <td>3</td>\n",
       "      <td>2</td>\n",
       "      <td>6</td>\n",
       "    </tr>\n",
       "    <tr>\n",
       "      <th>2</th>\n",
       "      <td>1</td>\n",
       "      <td>4</td>\n",
       "      <td>18.00</td>\n",
       "      <td>100000.00</td>\n",
       "      <td>115000.00</td>\n",
       "      <td>15</td>\n",
       "      <td>5</td>\n",
       "      <td>1</td>\n",
       "      <td>0</td>\n",
       "      <td>0</td>\n",
       "      <td>0</td>\n",
       "      <td>101150.02</td>\n",
       "      <td>17929.06</td>\n",
       "      <td>3</td>\n",
       "      <td>6</td>\n",
       "      <td>3</td>\n",
       "      <td>3</td>\n",
       "      <td>3</td>\n",
       "    </tr>\n",
       "    <tr>\n",
       "      <th>3</th>\n",
       "      <td>1</td>\n",
       "      <td>10</td>\n",
       "      <td>20.00</td>\n",
       "      <td>30000.00</td>\n",
       "      <td>34500.00</td>\n",
       "      <td>1</td>\n",
       "      <td>1</td>\n",
       "      <td>0</td>\n",
       "      <td>0</td>\n",
       "      <td>3</td>\n",
       "      <td>13</td>\n",
       "      <td>36208.10</td>\n",
       "      <td>369.10</td>\n",
       "      <td>3</td>\n",
       "      <td>3</td>\n",
       "      <td>3</td>\n",
       "      <td>1</td>\n",
       "      <td>0</td>\n",
       "    </tr>\n",
       "    <tr>\n",
       "      <th>4</th>\n",
       "      <td>1</td>\n",
       "      <td>10</td>\n",
       "      <td>20.00</td>\n",
       "      <td>60000.00</td>\n",
       "      <td>69000.00</td>\n",
       "      <td>16</td>\n",
       "      <td>16</td>\n",
       "      <td>0</td>\n",
       "      <td>0</td>\n",
       "      <td>0</td>\n",
       "      <td>0</td>\n",
       "      <td>60984.00</td>\n",
       "      <td>11845.24</td>\n",
       "      <td>3</td>\n",
       "      <td>5</td>\n",
       "      <td>3</td>\n",
       "      <td>5</td>\n",
       "      <td>3</td>\n",
       "    </tr>\n",
       "  </tbody>\n",
       "</table>\n",
       "</div>"
      ],
      "text/plain": [
       "   Sexo  UF_Cliente  Perc_Juros  VL_Emprestimo  VL_Emprestimo_ComJuros  \\\n",
       "0     1          25       23.00       80000.00                92000.00   \n",
       "1     1          10       20.00       50000.00                57500.00   \n",
       "2     1           4       18.00      100000.00               115000.00   \n",
       "3     1          10       20.00       30000.00                34500.00   \n",
       "4     1          10       20.00       60000.00                69000.00   \n",
       "\n",
       "   QT_Total_Parcelas_Pagas  QT_Total_Parcelas_Pagas_EmDia  \\\n",
       "0                       15                              9   \n",
       "1                       10                             10   \n",
       "2                       15                              5   \n",
       "3                        1                              1   \n",
       "4                       16                             16   \n",
       "\n",
       "   QT_Total_Parcelas_Pagas_EmAtraso  Qt_Renegociacao  Estado_Civil  \\\n",
       "0                                 1                0             1   \n",
       "1                                 0                0             3   \n",
       "2                                 1                0             0   \n",
       "3                                 0                0             3   \n",
       "4                                 0                0             0   \n",
       "\n",
       "   QT_Parcelas_Atraso  Saldo_Devedor  Total_Pago  Faixa_Prazo_Restante  \\\n",
       "0                   0       91759.97     7717.08                     2   \n",
       "1                   4       53981.18     6756.59                     3   \n",
       "2                   0      101150.02    17929.06                     3   \n",
       "3                  13       36208.10      369.10                     3   \n",
       "4                   0       60984.00    11845.24                     3   \n",
       "\n",
       "   Faixa_Salarial  Faixa_Prazo_Emprestimo  Faixa_Etaria  Faixa_Dias_Atraso  \n",
       "0               7                       2             4                  3  \n",
       "1               3                       3             2                  6  \n",
       "2               6                       3             3                  3  \n",
       "3               3                       3             1                  0  \n",
       "4               5                       3             5                  3  "
      ]
     },
     "execution_count": 286,
     "metadata": {},
     "output_type": "execute_result"
    }
   ],
   "source": [
    "# Visualizando as variaveis preditoras\n",
    "\n",
    "PREDITORAS.head()"
   ]
  },
  {
   "cell_type": "code",
   "execution_count": 288,
   "metadata": {},
   "outputs": [
    {
     "data": {
      "text/plain": [
       "0    Nao\n",
       "1    Nao\n",
       "2    Nao\n",
       "3    Sim\n",
       "4    Nao\n",
       "Name: Possivel_Fraude, dtype: object"
      ]
     },
     "execution_count": 288,
     "metadata": {},
     "output_type": "execute_result"
    }
   ],
   "source": [
    "# Visualizando a variavel target\n",
    "\n",
    "TARGET.head()"
   ]
  },
  {
   "cell_type": "code",
   "execution_count": 290,
   "metadata": {},
   "outputs": [],
   "source": [
    "# Seed para reproduzir o mesmo resultado\n",
    "seed = 100\n",
    "\n",
    "# Cria o balanceador SMOTE\n",
    "balanceador = SMOTE(random_state = seed)\n",
    "\n",
    "# Aplica o balanceador\n",
    "PREDITORAS_RES, TARGET_RES = balanceador.fit_resample(PREDITORAS, TARGET)"
   ]
  },
  {
   "cell_type": "code",
   "execution_count": 292,
   "metadata": {},
   "outputs": [
    {
     "data": {
      "image/png": "[encoded data removed]",
      "text/plain": [
       "<Figure size 1200x500 with 1 Axes>"
      ]
     },
     "metadata": {},
     "output_type": "display_data"
    }
   ],
   "source": [
    "# Visualizando o balanceamento da variável TARGET\n",
    "\n",
    "plt.rcParams[\"figure.figsize\"] = [12.00, 5.00]\n",
    "plt.rcParams[\"figure.autolayout\"] = True\n",
    "TARGET_RES.value_counts().plot(kind='bar', title='Possíveis Fraudes x Não Fraudes',color = ['#1F77B4', '#FF7F0E']);"
   ]
  },
  {
   "cell_type": "code",
   "execution_count": 302,
   "metadata": {},
   "outputs": [
    {
     "data": {
      "text/plain": [
       "(9517, 18)"
      ]
     },
     "execution_count": 302,
     "metadata": {},
     "output_type": "execute_result"
    }
   ],
   "source": [
    "# Quantidade de registros antes do balanceamento\n",
    "\n",
    "PREDITORAS.shape"
   ]
  },
  {
   "cell_type": "code",
   "execution_count": 304,
   "metadata": {},
   "outputs": [
    {
     "data": {
      "text/plain": [
       "(9517,)"
      ]
     },
     "execution_count": 304,
     "metadata": {},
     "output_type": "execute_result"
    }
   ],
   "source": [
    "# Quantidade de registros antes do balanceamento\n",
    "\n",
    "TARGET.shape"
   ]
  },
  {
   "cell_type": "code",
   "execution_count": 306,
   "metadata": {},
   "outputs": [
    {
     "data": {
      "text/plain": [
       "(10070, 18)"
      ]
     },
     "execution_count": 306,
     "metadata": {},
     "output_type": "execute_result"
    }
   ],
   "source": [
    "# Quantidade de registros após do balanceamento\n",
    "\n",
    "PREDITORAS_RES.shape"
   ]
  },
  {
   "cell_type": "code",
   "execution_count": 308,
   "metadata": {},
   "outputs": [
    {
     "data": {
      "text/plain": [
       "(10070,)"
      ]
     },
     "execution_count": 308,
     "metadata": {},
     "output_type": "execute_result"
    }
   ],
   "source": [
    "# Quantidade de registros após do balanceamento\n",
    "\n",
    "TARGET_RES.shape"
   ]
  },
  {
   "cell_type": "code",
   "execution_count": null,
   "metadata": {},
   "outputs": [],
   "source": []
  },
  {
   "cell_type": "markdown",
   "metadata": {},
   "source": [
    "## Agora vou dividir os dados em dados de treino e teste para iniciar a etapa de criação do modelo"
   ]
  },
  {
   "cell_type": "code",
   "execution_count": 312,
   "metadata": {},
   "outputs": [],
   "source": [
    "# Divisão em Dados de Treino e Teste.\n",
    "\n",
    "X_treino, X_teste, Y_treino, Y_teste = train_test_split(PREDITORAS_RES, TARGET_RES, test_size = 0.3, random_state = 42)"
   ]
  },
  {
   "cell_type": "code",
   "execution_count": 314,
   "metadata": {},
   "outputs": [
    {
     "data": {
      "text/plain": [
       "(7049, 18)"
      ]
     },
     "execution_count": 314,
     "metadata": {},
     "output_type": "execute_result"
    }
   ],
   "source": [
    "X_treino.shape"
   ]
  },
  {
   "cell_type": "code",
   "execution_count": 316,
   "metadata": {},
   "outputs": [
    {
     "data": {
      "text/html": [
       "<div>\n",
       "<style scoped>\n",
       "    .dataframe tbody tr th:only-of-type {\n",
       "        vertical-align: middle;\n",
       "    }\n",
       "\n",
       "    .dataframe tbody tr th {\n",
       "        vertical-align: top;\n",
       "    }\n",
       "\n",
       "    .dataframe thead th {\n",
       "        text-align: right;\n",
       "    }\n",
       "</style>\n",
       "<table border=\"1\" class=\"dataframe\">\n",
       "  <thead>\n",
       "    <tr style=\"text-align: right;\">\n",
       "      <th></th>\n",
       "      <th>Sexo</th>\n",
       "      <th>UF_Cliente</th>\n",
       "      <th>Perc_Juros</th>\n",
       "      <th>VL_Emprestimo</th>\n",
       "      <th>VL_Emprestimo_ComJuros</th>\n",
       "      <th>QT_Total_Parcelas_Pagas</th>\n",
       "      <th>QT_Total_Parcelas_Pagas_EmDia</th>\n",
       "      <th>QT_Total_Parcelas_Pagas_EmAtraso</th>\n",
       "      <th>Qt_Renegociacao</th>\n",
       "      <th>Estado_Civil</th>\n",
       "      <th>QT_Parcelas_Atraso</th>\n",
       "      <th>Saldo_Devedor</th>\n",
       "      <th>Total_Pago</th>\n",
       "      <th>Faixa_Prazo_Restante</th>\n",
       "      <th>Faixa_Salarial</th>\n",
       "      <th>Faixa_Prazo_Emprestimo</th>\n",
       "      <th>Faixa_Etaria</th>\n",
       "      <th>Faixa_Dias_Atraso</th>\n",
       "    </tr>\n",
       "  </thead>\n",
       "  <tbody>\n",
       "    <tr>\n",
       "      <th>7012</th>\n",
       "      <td>0</td>\n",
       "      <td>17</td>\n",
       "      <td>19.00</td>\n",
       "      <td>500000.00</td>\n",
       "      <td>575000.00</td>\n",
       "      <td>1</td>\n",
       "      <td>1</td>\n",
       "      <td>0</td>\n",
       "      <td>1</td>\n",
       "      <td>4</td>\n",
       "      <td>12</td>\n",
       "      <td>600296.26</td>\n",
       "      <td>1942.30</td>\n",
       "      <td>0</td>\n",
       "      <td>7</td>\n",
       "      <td>2</td>\n",
       "      <td>5</td>\n",
       "      <td>3</td>\n",
       "    </tr>\n",
       "    <tr>\n",
       "      <th>8541</th>\n",
       "      <td>0</td>\n",
       "      <td>25</td>\n",
       "      <td>20.00</td>\n",
       "      <td>140000.00</td>\n",
       "      <td>161000.00</td>\n",
       "      <td>5</td>\n",
       "      <td>3</td>\n",
       "      <td>1</td>\n",
       "      <td>1</td>\n",
       "      <td>0</td>\n",
       "      <td>8</td>\n",
       "      <td>167073.02</td>\n",
       "      <td>2485.00</td>\n",
       "      <td>0</td>\n",
       "      <td>6</td>\n",
       "      <td>2</td>\n",
       "      <td>5</td>\n",
       "      <td>2</td>\n",
       "    </tr>\n",
       "    <tr>\n",
       "      <th>3903</th>\n",
       "      <td>0</td>\n",
       "      <td>4</td>\n",
       "      <td>28.00</td>\n",
       "      <td>12000.00</td>\n",
       "      <td>13800.00</td>\n",
       "      <td>1</td>\n",
       "      <td>1</td>\n",
       "      <td>0</td>\n",
       "      <td>0</td>\n",
       "      <td>0</td>\n",
       "      <td>13</td>\n",
       "      <td>15717.44</td>\n",
       "      <td>332.66</td>\n",
       "      <td>1</td>\n",
       "      <td>6</td>\n",
       "      <td>1</td>\n",
       "      <td>2</td>\n",
       "      <td>0</td>\n",
       "    </tr>\n",
       "    <tr>\n",
       "      <th>1844</th>\n",
       "      <td>0</td>\n",
       "      <td>25</td>\n",
       "      <td>18.00</td>\n",
       "      <td>50000.00</td>\n",
       "      <td>57500.00</td>\n",
       "      <td>13</td>\n",
       "      <td>5</td>\n",
       "      <td>3</td>\n",
       "      <td>5</td>\n",
       "      <td>3</td>\n",
       "      <td>0</td>\n",
       "      <td>13084.40</td>\n",
       "      <td>26422.41</td>\n",
       "      <td>1</td>\n",
       "      <td>3</td>\n",
       "      <td>1</td>\n",
       "      <td>1</td>\n",
       "      <td>3</td>\n",
       "    </tr>\n",
       "    <tr>\n",
       "      <th>8303</th>\n",
       "      <td>1</td>\n",
       "      <td>9</td>\n",
       "      <td>21.00</td>\n",
       "      <td>15000.00</td>\n",
       "      <td>17250.00</td>\n",
       "      <td>13</td>\n",
       "      <td>3</td>\n",
       "      <td>4</td>\n",
       "      <td>1</td>\n",
       "      <td>3</td>\n",
       "      <td>0</td>\n",
       "      <td>14096.18</td>\n",
       "      <td>4423.11</td>\n",
       "      <td>1</td>\n",
       "      <td>6</td>\n",
       "      <td>1</td>\n",
       "      <td>2</td>\n",
       "      <td>3</td>\n",
       "    </tr>\n",
       "  </tbody>\n",
       "</table>\n",
       "</div>"
      ],
      "text/plain": [
       "      Sexo  UF_Cliente  Perc_Juros  VL_Emprestimo  VL_Emprestimo_ComJuros  \\\n",
       "7012     0          17       19.00      500000.00               575000.00   \n",
       "8541     0          25       20.00      140000.00               161000.00   \n",
       "3903     0           4       28.00       12000.00                13800.00   \n",
       "1844     0          25       18.00       50000.00                57500.00   \n",
       "8303     1           9       21.00       15000.00                17250.00   \n",
       "\n",
       "      QT_Total_Parcelas_Pagas  QT_Total_Parcelas_Pagas_EmDia  \\\n",
       "7012                        1                              1   \n",
       "8541                        5                              3   \n",
       "3903                        1                              1   \n",
       "1844                       13                              5   \n",
       "8303                       13                              3   \n",
       "\n",
       "      QT_Total_Parcelas_Pagas_EmAtraso  Qt_Renegociacao  Estado_Civil  \\\n",
       "7012                                 0                1             4   \n",
       "8541                                 1                1             0   \n",
       "3903                                 0                0             0   \n",
       "1844                                 3                5             3   \n",
       "8303                                 4                1             3   \n",
       "\n",
       "      QT_Parcelas_Atraso  Saldo_Devedor  Total_Pago  Faixa_Prazo_Restante  \\\n",
       "7012                  12      600296.26     1942.30                     0   \n",
       "8541                   8      167073.02     2485.00                     0   \n",
       "3903                  13       15717.44      332.66                     1   \n",
       "1844                   0       13084.40    26422.41                     1   \n",
       "8303                   0       14096.18     4423.11                     1   \n",
       "\n",
       "      Faixa_Salarial  Faixa_Prazo_Emprestimo  Faixa_Etaria  Faixa_Dias_Atraso  \n",
       "7012               7                       2             5                  3  \n",
       "8541               6                       2             5                  2  \n",
       "3903               6                       1             2                  0  \n",
       "1844               3                       1             1                  3  \n",
       "8303               6                       1             2                  3  "
      ]
     },
     "execution_count": 316,
     "metadata": {},
     "output_type": "execute_result"
    }
   ],
   "source": [
    "X_treino.head()"
   ]
  },
  {
   "cell_type": "code",
   "execution_count": 318,
   "metadata": {},
   "outputs": [],
   "source": [
    "# Normalização das Variáveis\n",
    "# Os dados estão em escalas diferentes, portanto temos que deixar todos na mesma escala para o machine learning.\n",
    "# Normalização vai deixar todos os dados entre 0 e 1.\n",
    "# Padronização vai deixar os dados com média 0 e desvio padrão 1.\n",
    "\n",
    "Normalizador = MinMaxScaler()\n",
    "X_treino_normalizados = Normalizador.fit_transform(X_treino)\n",
    "X_teste_normalizados = Normalizador.transform(X_teste)"
   ]
  },
  {
   "cell_type": "code",
   "execution_count": 320,
   "metadata": {},
   "outputs": [
    {
     "data": {
      "text/plain": [
       "(7049, 18)"
      ]
     },
     "execution_count": 320,
     "metadata": {},
     "output_type": "execute_result"
    }
   ],
   "source": [
    "X_treino_normalizados.shape"
   ]
  },
  {
   "cell_type": "code",
   "execution_count": 328,
   "metadata": {},
   "outputs": [
    {
     "data": {
      "text/plain": [
       "array([[0.        , 0.65384615, 0.57142857, ..., 0.66666667, 1.        ,\n",
       "        0.5       ],\n",
       "       [0.        , 0.96153846, 0.61904762, ..., 0.66666667, 1.        ,\n",
       "        0.33333333],\n",
       "       [0.        , 0.15384615, 1.        , ..., 0.33333333, 0.4       ,\n",
       "        0.        ],\n",
       "       ...,\n",
       "       [1.        , 0.96153846, 0.71428571, ..., 0.66666667, 0.4       ,\n",
       "        0.5       ],\n",
       "       [1.        , 0.88461538, 0.57142857, ..., 0.66666667, 0.8       ,\n",
       "        1.        ],\n",
       "       [1.        , 0.96153846, 0.85714286, ..., 1.        , 0.8       ,\n",
       "        0.5       ]])"
      ]
     },
     "execution_count": 328,
     "metadata": {},
     "output_type": "execute_result"
    }
   ],
   "source": [
    "# Visualizando os dados NORMALIZADOS\n",
    "\n",
    "X_treino_normalizados"
   ]
  },
  {
   "cell_type": "markdown",
   "metadata": {},
   "source": [
    "### NÃO precisa normalizar nem padronizar a variável TARGET"
   ]
  },
  {
   "cell_type": "code",
   "execution_count": 330,
   "metadata": {},
   "outputs": [],
   "source": [
    "# Padronizacao das Variáveis\n",
    "\n",
    "Padronizador = StandardScaler()\n",
    "X_treino_padronizados = Padronizador.fit_transform(X_treino)\n",
    "X_teste_padronizados = Padronizador.transform(X_teste)"
   ]
  },
  {
   "cell_type": "code",
   "execution_count": 332,
   "metadata": {},
   "outputs": [
    {
     "data": {
      "text/plain": [
       "array([[-1.19681542,  0.23366629, -0.17570736, ..., -0.0233426 ,\n",
       "         1.62595774,  0.21145893],\n",
       "       [-1.19681542,  1.30019073,  0.08623913, ..., -0.0233426 ,\n",
       "         1.62595774, -0.50688999],\n",
       "       [-1.19681542, -1.49943592,  2.18181105, ..., -1.17398585,\n",
       "        -0.69603904, -1.94358782],\n",
       "       ...,\n",
       "       [ 0.83555073,  1.30019073,  0.61013211, ..., -0.0233426 ,\n",
       "        -0.69603904,  0.21145893],\n",
       "       [ 0.83555073,  1.03355962, -0.17570736, ..., -0.0233426 ,\n",
       "         0.85195881,  2.36650569],\n",
       "       [ 0.83555073,  1.30019073,  1.39597158, ...,  1.12730065,\n",
       "         0.85195881,  0.21145893]])"
      ]
     },
     "execution_count": 332,
     "metadata": {},
     "output_type": "execute_result"
    }
   ],
   "source": [
    "# Visualizando os dados PADRONIZADOS\n",
    "\n",
    "X_treino_padronizados"
   ]
  },
  {
   "cell_type": "markdown",
   "metadata": {},
   "source": [
    "# Criando, Treinando e Avaliando os Modelos de Machine Learning"
   ]
  },
  {
   "cell_type": "markdown",
   "metadata": {},
   "source": [
    "## Primeiro irei fazer com o Random Forest"
   ]
  },
  {
   "cell_type": "code",
   "execution_count": 336,
   "metadata": {},
   "outputs": [],
   "source": [
    "# Construtor do Modelo\n",
    "\n",
    "randomForest = RandomForestClassifier()"
   ]
  },
  {
   "cell_type": "code",
   "execution_count": 338,
   "metadata": {},
   "outputs": [
    {
     "data": {
      "text/plain": [
       "{'bootstrap': True,\n",
       " 'ccp_alpha': 0.0,\n",
       " 'class_weight': None,\n",
       " 'criterion': 'gini',\n",
       " 'max_depth': None,\n",
       " 'max_features': 'sqrt',\n",
       " 'max_leaf_nodes': None,\n",
       " 'max_samples': None,\n",
       " 'min_impurity_decrease': 0.0,\n",
       " 'min_samples_leaf': 1,\n",
       " 'min_samples_split': 2,\n",
       " 'min_weight_fraction_leaf': 0.0,\n",
       " 'monotonic_cst': None,\n",
       " 'n_estimators': 100,\n",
       " 'n_jobs': None,\n",
       " 'oob_score': False,\n",
       " 'random_state': None,\n",
       " 'verbose': 0,\n",
       " 'warm_start': False}"
      ]
     },
     "execution_count": 338,
     "metadata": {},
     "output_type": "execute_result"
    }
   ],
   "source": [
    "# Parametros default\n",
    "\n",
    "randomForest.get_params()"
   ]
  },
  {
   "cell_type": "code",
   "execution_count": null,
   "metadata": {},
   "outputs": [],
   "source": []
  },
  {
   "cell_type": "code",
   "execution_count": null,
   "metadata": {},
   "outputs": [],
   "source": []
  },
  {
   "cell_type": "markdown",
   "metadata": {},
   "source": [
    "Explicação Detalhada de Cada Parâmetro\n",
    "1. n_estimators\n",
    "O que faz: Controla o número de árvores na floresta.\n",
    "\n",
    "Valores testados: [100, 200, 300]\n",
    "\n",
    "Efeito no modelo:\n",
    "\n",
    "Mais árvores (300) → Melhor precisão, mas treinamento mais lento.\n",
    "\n",
    "Menos árvores (100) → Mais rápido, mas pode perder desempenho.\n",
    "\n",
    "2. max_depth\n",
    "O que faz: Define a profundidade máxima de cada árvore.\n",
    "\n",
    "Valores testados: [10, 20]\n",
    "\n",
    "Efeito no modelo:\n",
    "\n",
    "Profundidade maior (20) → Árvores mais complexas (risco de overfitting).\n",
    "\n",
    "Profundidade menor (10) → Árvores mais simples (evita overfitting).\n",
    "\n",
    "3. criterion\n",
    "O que faz: Métrica usada para dividir os nós das árvores.\n",
    "\n",
    "Valores testados: [\"gini\", \"entropy\"]\n",
    "\n",
    "Diferença:\n",
    "\n",
    "\"gini\" (padrão) → Mede a impureza de Gini (mais rápido).\n",
    "\n",
    "\"entropy\" → Usa ganho de informação (pode ser mais preciso em alguns casos).\n",
    "\n",
    "4. max_features\n",
    "O que faz: Número de features consideradas em cada divisão.\n",
    "\n",
    "Valores testados: [\"sqrt\", \"log2\", None]\n",
    "\n",
    "Efeito no modelo:\n",
    "\n",
    "\"sqrt\" → Usa a raiz quadrada do total de features (reduz overfitting).\n",
    "\n",
    "\"log2\" → Usa log2(n_features).\n",
    "\n",
    "None → Usa todas as features (pode levar a árvores muito correlacionadas).\n",
    "\n",
    "5. min_samples_split\n",
    "O que faz: Mínimo de amostras necessárias para dividir um nó.\n",
    "\n",
    "Valores testados: [1, 2, 5]\n",
    "\n",
    "Efeito no modelo:\n",
    "\n",
    "Valor baixo (1) → Árvores mais profundas (risco de overfitting).\n",
    "\n",
    "Valor alto (5) → Árvores mais simples (evita overfitting).\n",
    "\n",
    "6. min_samples_leaf\n",
    "O que faz: Mínimo de amostras necessárias em uma folha.\n",
    "\n",
    "Valores testados: [1, 2, 3]\n",
    "\n",
    "Efeito no modelo:\n",
    "\n",
    "Valor baixo (1) → Folhas pequenas (modelo mais complexo).\n",
    "\n",
    "Valor alto (3) → Folhas maiores (modelo mais generalizado)."
   ]
  },
  {
   "cell_type": "code",
   "execution_count": 347,
   "metadata": {},
   "outputs": [
    {
     "name": "stdout",
     "output_type": "stream",
     "text": [
      "Acurácia em Treinamento: 99.22%\n",
      "\n",
      "Hiperparâmetros Ideais: {'criterion': 'entropy', 'max_depth': 20, 'max_features': 'sqrt', 'min_samples_leaf': 1, 'min_samples_split': 2, 'n_estimators': 100}\n",
      "\n",
      "Tempo de Treinamento do Modelo:  94.76\n",
      "\n",
      "Número de treinamentos realizados:  324\n"
     ]
    }
   ],
   "source": [
    "# Valores para o grid de hiperparâmetros\n",
    "n_estimators = np.array([100, 200, 300])\n",
    "max_depth = np.array([10, 20])\n",
    "criterion = np.array([\"gini\", \"entropy\"])\n",
    "max_features = np.array([\"sqrt\", \"log2\", None])\n",
    "min_samples_split = np.array([1, 2, 5])\n",
    "min_samples_leaf = np.array([1, 2, 3])\n",
    "\n",
    "# Estou testando combinações de hiperparâmetros para encontrar a configuração que:\n",
    "# ✅ Maximiza a acurácia (ou outra métrica).\n",
    "# ✅ Evita overfitting (usando max_depth, min_samples_split, etc.).\n",
    "# ✅ Balanceia desempenho e tempo de treinamento (ex.: n_estimators=200 vs 300).\n",
    "\n",
    "# Grid de hiperparâmetros\n",
    "grid_parametros = {\n",
    "    'n_estimators': n_estimators,\n",
    "    'max_depth': max_depth,\n",
    "    'criterion': criterion,\n",
    "    'max_features': max_features,\n",
    "    'min_samples_split': min_samples_split,\n",
    "    'min_samples_leaf': min_samples_leaf\n",
    "}\n",
    "\n",
    "# Criar o modelo base (RandomForestClassifier)\n",
    "base_model = RandomForestClassifier(random_state=42)\n",
    "\n",
    "# Criar o GridSearchCV\n",
    "randomForest = GridSearchCV(\n",
    "    estimator=base_model,  # Usamos o modelo base aqui\n",
    "    param_grid=grid_parametros,\n",
    "    cv=3,\n",
    "    n_jobs=8\n",
    ")\n",
    "\n",
    "# Treinando os modelos\n",
    "inicio = time.time()\n",
    "randomForest.fit(X_treino_normalizados, Y_treino)\n",
    "fim = time.time()\n",
    "\n",
    "# Obtendo e visualizando os parâmetros treinados\n",
    "treinos_rf = pd.DataFrame(randomForest.cv_results_)\n",
    "\n",
    "# Acurácia em Treino\n",
    "print(f\"Acurácia em Treinamento: {randomForest.best_score_:.2%}\")\n",
    "print(\"\")\n",
    "print(f\"Hiperparâmetros Ideais: {randomForest.best_params_}\")\n",
    "print(\"\")\n",
    "print(\"Tempo de Treinamento do Modelo: \", round(fim - inicio, 2))\n",
    "print(\"\")\n",
    "print(\"Número de treinamentos realizados: \", treinos_rf.shape[0])"
   ]
  },
  {
   "cell_type": "code",
   "execution_count": 349,
   "metadata": {},
   "outputs": [],
   "source": [
    "# Criando o classificador com Random Forest\n",
    "\n",
    "clf = RandomForestClassifier(n_estimators  = 100, criterion = 'entropy', max_depth = 20, \n",
    "                             max_features = 'sqrt', min_samples_leaf = 1, min_samples_split = 2, n_jobs = 8)\n",
    "\n",
    "# Construção do modelo\n",
    "clf = clf.fit(X_treino_normalizados, Y_treino)"
   ]
  },
  {
   "cell_type": "code",
   "execution_count": 351,
   "metadata": {},
   "outputs": [
    {
     "data": {
      "image/png": "[encoded data removed]",
      "text/plain": [
       "<Figure size 1000x1600 with 1 Axes>"
      ]
     },
     "metadata": {},
     "output_type": "display_data"
    }
   ],
   "source": [
    "# Exibindo a importancia de cada variavel no modelo preditivo\n",
    "\n",
    "plt.rcParams[\"figure.figsize\"] = [10.00, 16.00]\n",
    "plt.rcParams[\"figure.autolayout\"] = True\n",
    "\n",
    "importances = pd.Series(data=clf.feature_importances_, index=PREDITORAS.columns)\n",
    "importances = importances.sort_values(ascending = False)\n",
    "sns.barplot(x=importances, y=importances.index, orient='h').set_title('Importância de cada variável')\n",
    "plt.show()"
   ]
  },
  {
   "cell_type": "code",
   "execution_count": 353,
   "metadata": {},
   "outputs": [
    {
     "data": {
      "text/plain": [
       "QT_Parcelas_Atraso                 0.44\n",
       "QT_Total_Parcelas_Pagas            0.27\n",
       "Total_Pago                         0.10\n",
       "QT_Total_Parcelas_Pagas_EmDia      0.06\n",
       "Qt_Renegociacao                    0.03\n",
       "Faixa_Dias_Atraso                  0.03\n",
       "QT_Total_Parcelas_Pagas_EmAtraso   0.02\n",
       "Saldo_Devedor                      0.02\n",
       "VL_Emprestimo_ComJuros             0.01\n",
       "VL_Emprestimo                      0.01\n",
       "Perc_Juros                         0.01\n",
       "UF_Cliente                         0.00\n",
       "Faixa_Salarial                     0.00\n",
       "Faixa_Etaria                       0.00\n",
       "Faixa_Prazo_Emprestimo             0.00\n",
       "Faixa_Prazo_Restante               0.00\n",
       "Estado_Civil                       0.00\n",
       "Sexo                               0.00\n",
       "dtype: float64"
      ]
     },
     "execution_count": 353,
     "metadata": {},
     "output_type": "execute_result"
    }
   ],
   "source": [
    "# Visualizando o percentual de importancia de cada variável\n",
    "\n",
    "importances.sort_values(ascending = False)"
   ]
  },
  {
   "cell_type": "code",
   "execution_count": 361,
   "metadata": {},
   "outputs": [
    {
     "data": {
      "text/plain": [
       "1.0"
      ]
     },
     "execution_count": 361,
     "metadata": {},
     "output_type": "execute_result"
    }
   ],
   "source": [
    "# Estou apenas \"simulando\" os dados de treino\n",
    "\n",
    "scores1 = clf.score(X_treino_normalizados,Y_treino)\n",
    "scores1"
   ]
  },
  {
   "cell_type": "code",
   "execution_count": 363,
   "metadata": {},
   "outputs": [
    {
     "data": {
      "text/plain": [
       "0.9900695134061569"
      ]
     },
     "execution_count": 363,
     "metadata": {},
     "output_type": "execute_result"
    }
   ],
   "source": [
    "# Estou apenas \"simulando\" os dados de teste\n",
    "\n",
    "scores2 = clf.score(X_teste_normalizados,Y_teste)\n",
    "scores2"
   ]
  },
  {
   "cell_type": "markdown",
   "metadata": {},
   "source": [
    "O de teste sempre vai dar um pouco abaixo, porém a diferença é pequena, isso significa que não tem overfiting, que os dados estão semelhantes."
   ]
  },
  {
   "cell_type": "code",
   "execution_count": 366,
   "metadata": {},
   "outputs": [],
   "source": [
    "# Dicionário de métricas e metadados\n",
    "\n",
    "modelo_rf = {'Melhores Hiperparametros':randomForest.best_params_,\n",
    "               'Numero de Modelos Treinados': treinos_rf.shape[0],  \n",
    "               'Melhor Score': str(round(randomForest.best_score_ * 100,2))+\"%\"}"
   ]
  },
  {
   "cell_type": "code",
   "execution_count": 368,
   "metadata": {},
   "outputs": [
    {
     "data": {
      "text/plain": [
       "{'Melhores Hiperparametros': {'criterion': 'entropy',\n",
       "  'max_depth': 20,\n",
       "  'max_features': 'sqrt',\n",
       "  'min_samples_leaf': 1,\n",
       "  'min_samples_split': 2,\n",
       "  'n_estimators': 100},\n",
       " 'Numero de Modelos Treinados': 324,\n",
       " 'Melhor Score': '99.22%'}"
      ]
     },
     "execution_count": 368,
     "metadata": {},
     "output_type": "execute_result"
    }
   ],
   "source": [
    "modelo_rf"
   ]
  },
  {
   "cell_type": "markdown",
   "metadata": {},
   "source": [
    "## Support Vector Machine (SVM) "
   ]
  },
  {
   "cell_type": "code",
   "execution_count": 389,
   "metadata": {},
   "outputs": [],
   "source": [
    "# Construtor do modelo\n",
    "# Definir o modelo base (SVM não treinado)\n",
    "\n",
    "modelo_svm = SVC(random_state=42)"
   ]
  },
  {
   "cell_type": "code",
   "execution_count": 386,
   "metadata": {},
   "outputs": [
    {
     "data": {
      "text/plain": [
       "{'C': 1.0,\n",
       " 'break_ties': False,\n",
       " 'cache_size': 200,\n",
       " 'class_weight': None,\n",
       " 'coef0': 0.0,\n",
       " 'decision_function_shape': 'ovr',\n",
       " 'degree': 3,\n",
       " 'gamma': 'scale',\n",
       " 'kernel': 'rbf',\n",
       " 'max_iter': -1,\n",
       " 'probability': False,\n",
       " 'random_state': 42,\n",
       " 'shrinking': True,\n",
       " 'tol': 0.001,\n",
       " 'verbose': False}"
      ]
     },
     "execution_count": 386,
     "metadata": {},
     "output_type": "execute_result"
    }
   ],
   "source": [
    "# Parametros default\n",
    "\n",
    "modelo_svm.get_params()"
   ]
  },
  {
   "cell_type": "code",
   "execution_count": 388,
   "metadata": {},
   "outputs": [
    {
     "name": "stdout",
     "output_type": "stream",
     "text": [
      "Acurácia em Treinamento: 99.04%\n",
      "\n",
      "Hiperparâmetros Ideais: {'C': 100, 'coef0': 0.5, 'decision_function_shape': 'ovo', 'degree': 2, 'gamma': 1, 'kernel': 'linear', 'max_iter': -1}\n",
      "\n",
      "Tempo de Treinamento do Modelo:  235.63\n",
      "\n",
      "Numero de treinamentos realizados:  1536\n"
     ]
    }
   ],
   "source": [
    "# Valores para o grid de hiperparametros\n",
    "\n",
    "grid_parametros = {'C': [0.1,1,10,100],\n",
    "                   'gamma': [1,0.1,0.01,0.001],\n",
    "                   'kernel': ['poly','rbf','sigmoid','linear'],\n",
    "                   'degree' : [2,3,4,],\n",
    "                   'coef0' : [0.5,1],\n",
    "                   'decision_function_shape':['ovo', 'ovr'],\n",
    "                   'max_iter': [-1, 1]}\n",
    "\n",
    "\n",
    "svm = GridSearchCV(modelo_svm, grid_parametros, n_jobs = 8)\n",
    "\n",
    "# Treinando os modelos\n",
    "inicio = time.time()\n",
    "svm.fit(X_treino_normalizados, Y_treino)\n",
    "fim = time.time()\n",
    "\n",
    "# Obtendo e visualizando os parametros treinados\n",
    "treinos_svm = pd.DataFrame(svm.cv_results_)\n",
    "\n",
    "# Acurácia em Treino\n",
    "print(f\"Acurácia em Treinamento: {svm.best_score_ :.2%}\")\n",
    "print(\"\")\n",
    "print(f\"Hiperparâmetros Ideais: {svm.best_params_}\")\n",
    "print(\"\")\n",
    "print(\"Tempo de Treinamento do Modelo: \", round(fim - inicio,2))\n",
    "print(\"\")\n",
    "print(\"Numero de treinamentos realizados: \", treinos_svm.shape[0])"
   ]
  },
  {
   "cell_type": "code",
   "execution_count": 392,
   "metadata": {},
   "outputs": [],
   "source": [
    "# Dicionário de métricas e metadados\n",
    "\n",
    "modelo_svm = {'Melhores Hiperparametros':svm.best_params_,\n",
    "               'Numero de Modelos Treinados': treinos_svm.shape[0],  \n",
    "               'Melhor Score': str(round(svm.best_score_ * 100,2))+\"%\"}"
   ]
  },
  {
   "cell_type": "code",
   "execution_count": null,
   "metadata": {},
   "outputs": [],
   "source": []
  },
  {
   "cell_type": "code",
   "execution_count": null,
   "metadata": {},
   "outputs": [],
   "source": []
  },
  {
   "cell_type": "markdown",
   "metadata": {},
   "source": [
    "## Modelo K-Nearest Neighbors (KNN)"
   ]
  },
  {
   "cell_type": "code",
   "execution_count": 395,
   "metadata": {},
   "outputs": [],
   "source": [
    "# Classificador\n",
    "\n",
    "knn = KNeighborsClassifier()"
   ]
  },
  {
   "cell_type": "code",
   "execution_count": 397,
   "metadata": {},
   "outputs": [
    {
     "data": {
      "text/plain": [
       "{'algorithm': 'auto',\n",
       " 'leaf_size': 30,\n",
       " 'metric': 'minkowski',\n",
       " 'metric_params': None,\n",
       " 'n_jobs': None,\n",
       " 'n_neighbors': 5,\n",
       " 'p': 2,\n",
       " 'weights': 'uniform'}"
      ]
     },
     "execution_count": 397,
     "metadata": {},
     "output_type": "execute_result"
    }
   ],
   "source": [
    "# Parametros default\n",
    "\n",
    "knn.get_params()"
   ]
  },
  {
   "cell_type": "code",
   "execution_count": 399,
   "metadata": {},
   "outputs": [
    {
     "name": "stdout",
     "output_type": "stream",
     "text": [
      "Acurácia em Treinamento: 97.04%\n",
      "\n",
      "Hiperparâmetros Ideais: {'algorithm': 'auto', 'leaf_size': 30, 'metric': 'minkowski', 'n_neighbors': 5}\n",
      "\n",
      "Tempo de Treinamento do Modelo:  13.88\n",
      "\n",
      "Numero de treinamentos realizados:  120\n"
     ]
    }
   ],
   "source": [
    "# Valores para o grid de hiperparametros\n",
    "\n",
    "n_neighbors = np.array([3,4,5,6,7])\n",
    "algorithm = np.array(['auto', 'ball_tree', 'kd_tree', 'brute'])\n",
    "leaf_size = np.array([30,31,32])\n",
    "metric =  np.array(['minkowski','euclidean'])\n",
    "\n",
    "\n",
    "# Grid de hiperparâmetros\n",
    "grid_parametros = dict(n_neighbors = n_neighbors,\n",
    "                       algorithm = algorithm,\n",
    "                       leaf_size = leaf_size,\n",
    "                       metric = metric)\n",
    "\n",
    "knn = GridSearchCV(knn, grid_parametros, n_jobs = 8)\n",
    "\n",
    "# Treinando os modelos\n",
    "inicio = time.time()\n",
    "knn.fit(X_treino_normalizados, Y_treino)\n",
    "fim = time.time()\n",
    "\n",
    "# Obtendo e visualizando os parametros treinados\n",
    "treinos_knn = pd.DataFrame(knn.cv_results_)\n",
    "\n",
    "# Acurácia em Treino\n",
    "print(f\"Acurácia em Treinamento: {knn.best_score_ :.2%}\")\n",
    "print(\"\")\n",
    "print(f\"Hiperparâmetros Ideais: {knn.best_params_}\")\n",
    "print(\"\")\n",
    "print(\"Tempo de Treinamento do Modelo: \", round(fim - inicio,2))\n",
    "print(\"\")\n",
    "print(\"Numero de treinamentos realizados: \", treinos_knn.shape[0])"
   ]
  },
  {
   "cell_type": "code",
   "execution_count": 404,
   "metadata": {},
   "outputs": [],
   "source": [
    "# Dicionário de métricas e metadados\n",
    "\n",
    "modelo_knn = {'Melhores Hiperparametros':knn.best_params_,\n",
    "               'Numero de Modelos Treinados': treinos_knn.shape[0],  \n",
    "               'Melhor Score': str(round(knn.best_score_ * 100,2))+\"%\"}"
   ]
  },
  {
   "cell_type": "code",
   "execution_count": null,
   "metadata": {},
   "outputs": [],
   "source": []
  },
  {
   "cell_type": "code",
   "execution_count": 406,
   "metadata": {},
   "outputs": [],
   "source": [
    "# Gerando o DataFrame com todos os valores de todos os modelos treinados\n",
    "\n",
    "resumo = pd.DataFrame({'Random Forest':pd.Series(modelo_rf),\n",
    "                       'SVM':pd.Series(modelo_svm),                       \n",
    "                       'KNN':pd.Series(modelo_knn)})"
   ]
  },
  {
   "cell_type": "code",
   "execution_count": 408,
   "metadata": {},
   "outputs": [
    {
     "data": {
      "text/html": [
       "<div>\n",
       "<style scoped>\n",
       "    .dataframe tbody tr th:only-of-type {\n",
       "        vertical-align: middle;\n",
       "    }\n",
       "\n",
       "    .dataframe tbody tr th {\n",
       "        vertical-align: top;\n",
       "    }\n",
       "\n",
       "    .dataframe thead th {\n",
       "        text-align: right;\n",
       "    }\n",
       "</style>\n",
       "<table border=\"1\" class=\"dataframe\">\n",
       "  <thead>\n",
       "    <tr style=\"text-align: right;\">\n",
       "      <th></th>\n",
       "      <th>Random Forest</th>\n",
       "      <th>SVM</th>\n",
       "      <th>KNN</th>\n",
       "    </tr>\n",
       "  </thead>\n",
       "  <tbody>\n",
       "    <tr>\n",
       "      <th>Melhores Hiperparametros</th>\n",
       "      <td>{'criterion': 'entropy', 'max_depth': 20, 'max...</td>\n",
       "      <td>{'C': 100, 'coef0': 0.5, 'decision_function_sh...</td>\n",
       "      <td>{'algorithm': 'auto', 'leaf_size': 30, 'metric...</td>\n",
       "    </tr>\n",
       "    <tr>\n",
       "      <th>Numero de Modelos Treinados</th>\n",
       "      <td>324</td>\n",
       "      <td>1536</td>\n",
       "      <td>120</td>\n",
       "    </tr>\n",
       "    <tr>\n",
       "      <th>Melhor Score</th>\n",
       "      <td>99.22%</td>\n",
       "      <td>99.04%</td>\n",
       "      <td>97.04%</td>\n",
       "    </tr>\n",
       "  </tbody>\n",
       "</table>\n",
       "</div>"
      ],
      "text/plain": [
       "                                                                 Random Forest  \\\n",
       "Melhores Hiperparametros     {'criterion': 'entropy', 'max_depth': 20, 'max...   \n",
       "Numero de Modelos Treinados                                                324   \n",
       "Melhor Score                                                            99.22%   \n",
       "\n",
       "                                                                           SVM  \\\n",
       "Melhores Hiperparametros     {'C': 100, 'coef0': 0.5, 'decision_function_sh...   \n",
       "Numero de Modelos Treinados                                               1536   \n",
       "Melhor Score                                                            99.04%   \n",
       "\n",
       "                                                                           KNN  \n",
       "Melhores Hiperparametros     {'algorithm': 'auto', 'leaf_size': 30, 'metric...  \n",
       "Numero de Modelos Treinados                                                120  \n",
       "Melhor Score                                                            97.04%  "
      ]
     },
     "execution_count": 408,
     "metadata": {},
     "output_type": "execute_result"
    }
   ],
   "source": [
    "resumo"
   ]
  },
  {
   "cell_type": "code",
   "execution_count": null,
   "metadata": {},
   "outputs": [],
   "source": []
  }
 ],
 "metadata": {
  "kernelspec": {
   "display_name": "Python [conda env:base] *",
   "language": "python",
   "name": "conda-base-py"
  },
  "language_info": {
   "codemirror_mode": {
    "name": "ipython",
    "version": 3
   },
   "file_extension": ".py",
   "mimetype": "text/x-python",
   "name": "python",
   "nbconvert_exporter": "python",
   "pygments_lexer": "ipython3",
   "version": "3.12.7"
  }
 },
 "nbformat": 4,
 "nbformat_minor": 4
}
